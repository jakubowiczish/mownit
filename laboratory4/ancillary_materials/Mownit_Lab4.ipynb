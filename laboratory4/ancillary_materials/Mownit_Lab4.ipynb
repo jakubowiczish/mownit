{
 "cells": [
  {
   "cell_type": "markdown",
   "metadata": {},
   "source": [
    "### Wybrane zagadnienia algebry liniowej, faktoryzacja\n",
    "#### Wsparcie algebry liniowej w Julii\n",
    "https://docs.julialang.org/en/v1/stdlib/LinearAlgebra/index.html"
   ]
  },
  {
   "cell_type": "code",
   "execution_count": 18,
   "metadata": {},
   "outputs": [],
   "source": [
    "using(LinearAlgebra)"
   ]
  },
  {
   "cell_type": "code",
   "execution_count": 19,
   "metadata": {},
   "outputs": [
    {
     "data": {
      "text/html": [
       "11 methods for generic function <b>factorize</b>:<ul><li> factorize<i>{T}</i>(A::<b>Union{DenseArray{T,2}, ReinterpretArray{T,2,S,A} where S where A<:Union{SubArray{T,N,A,I,true} where I<:Tuple{AbstractUnitRange,Vararg{Any,N} where N} where A<:DenseArray where N where T, DenseArray}, ReshapedArray{T,2,A,MI} where MI<:Tuple{Vararg{SignedMultiplicativeInverse{Int64},N} where N} where A<:Union{ReinterpretArray{T,N,S,A} where S where A<:Union{SubArray{T,N,A,I,true} where I<:Tuple{AbstractUnitRange,Vararg{Any,N} where N} where A<:DenseArray where N where T, DenseArray} where N where T, SubArray{T,N,A,I,true} where I<:Tuple{AbstractUnitRange,Vararg{Any,N} where N} where A<:DenseArray where N where T, DenseArray}, SubArray{T,2,A,I,L} where L where I<:Tuple{Vararg{Union{Int64, AbstractRange{Int64}, AbstractCartesianIndex},N} where N} where A<:Union{ReinterpretArray{T,N,S,A} where S where A<:Union{SubArray{T,N,A,I,true} where I<:Tuple{AbstractUnitRange,Vararg{Any,N} where N} where A<:DenseArray where N where T, DenseArray} where N where T, ReshapedArray{T,N,A,MI} where MI<:Tuple{Vararg{SignedMultiplicativeInverse{Int64},N} where N} where A<:Union{ReinterpretArray{T,N,S,A} where S where A<:Union{SubArray{T,N,A,I,true} where I<:Tuple{AbstractUnitRange,Vararg{Any,N} where N} where A<:DenseArray where N where T, DenseArray} where N where T, SubArray{T,N,A,I,true} where I<:Tuple{AbstractUnitRange,Vararg{Any,N} where N} where A<:DenseArray where N where T, DenseArray} where N where T, DenseArray}}</b>) in LinearAlgebra at <a href=\"file:///buildworker/worker/package_linux64/build/usr/share/julia/stdlib/v1.0/LinearAlgebra/src/dense.jl\" target=\"_blank\">/buildworker/worker/package_linux64/build/usr/share/julia/stdlib/v1.0/LinearAlgebra/src/dense.jl:1141</a></li> <li> factorize(A::<b>Adjoint</b>) in LinearAlgebra at <a href=\"file:///buildworker/worker/package_linux64/build/usr/share/julia/stdlib/v1.0/LinearAlgebra/src/dense.jl\" target=\"_blank\">/buildworker/worker/package_linux64/build/usr/share/julia/stdlib/v1.0/LinearAlgebra/src/dense.jl:1216</a></li> <li> factorize(A::<b>Transpose</b>) in LinearAlgebra at <a href=\"file:///buildworker/worker/package_linux64/build/usr/share/julia/stdlib/v1.0/LinearAlgebra/src/dense.jl\" target=\"_blank\">/buildworker/worker/package_linux64/build/usr/share/julia/stdlib/v1.0/LinearAlgebra/src/dense.jl:1217</a></li> <li> factorize(A::<b>LinearAlgebra.AbstractTriangular</b>) in LinearAlgebra at <a href=\"file:///buildworker/worker/package_linux64/build/usr/share/julia/stdlib/v1.0/LinearAlgebra/src/triangular.jl\" target=\"_blank\">/buildworker/worker/package_linux64/build/usr/share/julia/stdlib/v1.0/LinearAlgebra/src/triangular.jl:2475</a></li> <li> factorize(A::<b>Union{Hermitian{Complex{Float64},#s576}, Hermitian{Float64,#s576}, Symmetric{Float64,#s576}} where #s576<:SparseArrays.SparseMatrixCSC</b>) in SparseArrays at <a href=\"file:///buildworker/worker/package_linux64/build/usr/share/julia/stdlib/v1.0/SparseArrays/src/linalg.jl\" target=\"_blank\">/buildworker/worker/package_linux64/build/usr/share/julia/stdlib/v1.0/SparseArrays/src/linalg.jl:1126</a></li> <li> factorize<i>{T}</i>(A::<b>Union{Hermitian{T,S}, Symmetric{T,S}} where S</b>) in LinearAlgebra at <a href=\"file:///buildworker/worker/package_linux64/build/usr/share/julia/stdlib/v1.0/LinearAlgebra/src/symmetric.jl\" target=\"_blank\">/buildworker/worker/package_linux64/build/usr/share/julia/stdlib/v1.0/LinearAlgebra/src/symmetric.jl:451</a></li> <li> factorize(A::<b>Tridiagonal</b>) in LinearAlgebra at <a href=\"file:///buildworker/worker/package_linux64/build/usr/share/julia/stdlib/v1.0/LinearAlgebra/src/lu.jl\" target=\"_blank\">/buildworker/worker/package_linux64/build/usr/share/julia/stdlib/v1.0/LinearAlgebra/src/lu.jl:494</a></li> <li> factorize(D::<b>Diagonal</b>) in LinearAlgebra at <a href=\"file:///buildworker/worker/package_linux64/build/usr/share/julia/stdlib/v1.0/LinearAlgebra/src/diagonal.jl\" target=\"_blank\">/buildworker/worker/package_linux64/build/usr/share/julia/stdlib/v1.0/LinearAlgebra/src/diagonal.jl:121</a></li> <li> factorize(A::<b>Bidiagonal</b>) in LinearAlgebra at <a href=\"file:///buildworker/worker/package_linux64/build/usr/share/julia/stdlib/v1.0/LinearAlgebra/src/bidiag.jl\" target=\"_blank\">/buildworker/worker/package_linux64/build/usr/share/julia/stdlib/v1.0/LinearAlgebra/src/bidiag.jl:616</a></li> <li> factorize(S::<b>SymTridiagonal</b>) in LinearAlgebra at <a href=\"file:///buildworker/worker/package_linux64/build/usr/share/julia/stdlib/v1.0/LinearAlgebra/src/ldlt.jl\" target=\"_blank\">/buildworker/worker/package_linux64/build/usr/share/julia/stdlib/v1.0/LinearAlgebra/src/ldlt.jl:99</a></li> <li> factorize(A::<b>SparseArrays.SparseMatrixCSC</b>) in SparseArrays at <a href=\"file:///buildworker/worker/package_linux64/build/usr/share/julia/stdlib/v1.0/SparseArrays/src/linalg.jl\" target=\"_blank\">/buildworker/worker/package_linux64/build/usr/share/julia/stdlib/v1.0/SparseArrays/src/linalg.jl:1096</a></li> </ul>"
      ],
      "text/plain": [
       "# 11 methods for generic function \"factorize\":\n",
       "[1] factorize(A::Union{DenseArray{T,2}, ReinterpretArray{T,2,S,A} where S where A<:Union{SubArray{T,N,A,I,true} where I<:Tuple{AbstractUnitRange,Vararg{Any,N} where N} where A<:DenseArray where N where T, DenseArray}, ReshapedArray{T,2,A,MI} where MI<:Tuple{Vararg{SignedMultiplicativeInverse{Int64},N} where N} where A<:Union{ReinterpretArray{T,N,S,A} where S where A<:Union{SubArray{T,N,A,I,true} where I<:Tuple{AbstractUnitRange,Vararg{Any,N} where N} where A<:DenseArray where N where T, DenseArray} where N where T, SubArray{T,N,A,I,true} where I<:Tuple{AbstractUnitRange,Vararg{Any,N} where N} where A<:DenseArray where N where T, DenseArray}, SubArray{T,2,A,I,L} where L where I<:Tuple{Vararg{Union{Int64, AbstractRange{Int64}, AbstractCartesianIndex},N} where N} where A<:Union{ReinterpretArray{T,N,S,A} where S where A<:Union{SubArray{T,N,A,I,true} where I<:Tuple{AbstractUnitRange,Vararg{Any,N} where N} where A<:DenseArray where N where T, DenseArray} where N where T, ReshapedArray{T,N,A,MI} where MI<:Tuple{Vararg{SignedMultiplicativeInverse{Int64},N} where N} where A<:Union{ReinterpretArray{T,N,S,A} where S where A<:Union{SubArray{T,N,A,I,true} where I<:Tuple{AbstractUnitRange,Vararg{Any,N} where N} where A<:DenseArray where N where T, DenseArray} where N where T, SubArray{T,N,A,I,true} where I<:Tuple{AbstractUnitRange,Vararg{Any,N} where N} where A<:DenseArray where N where T, DenseArray} where N where T, DenseArray}}) where T in LinearAlgebra at /buildworker/worker/package_linux64/build/usr/share/julia/stdlib/v1.0/LinearAlgebra/src/dense.jl:1141\n",
       "[2] factorize(A::Adjoint) in LinearAlgebra at /buildworker/worker/package_linux64/build/usr/share/julia/stdlib/v1.0/LinearAlgebra/src/dense.jl:1216\n",
       "[3] factorize(A::Transpose) in LinearAlgebra at /buildworker/worker/package_linux64/build/usr/share/julia/stdlib/v1.0/LinearAlgebra/src/dense.jl:1217\n",
       "[4] factorize(A::LinearAlgebra.AbstractTriangular) in LinearAlgebra at /buildworker/worker/package_linux64/build/usr/share/julia/stdlib/v1.0/LinearAlgebra/src/triangular.jl:2475\n",
       "[5] factorize(A::Union{Hermitian{Complex{Float64},#s576}, Hermitian{Float64,#s576}, Symmetric{Float64,#s576}} where #s576<:SparseArrays.SparseMatrixCSC) in SparseArrays at /buildworker/worker/package_linux64/build/usr/share/julia/stdlib/v1.0/SparseArrays/src/linalg.jl:1126\n",
       "[6] factorize(A::Union{Hermitian{T,S}, Symmetric{T,S}} where S) where T in LinearAlgebra at /buildworker/worker/package_linux64/build/usr/share/julia/stdlib/v1.0/LinearAlgebra/src/symmetric.jl:451\n",
       "[7] factorize(A::Tridiagonal) in LinearAlgebra at /buildworker/worker/package_linux64/build/usr/share/julia/stdlib/v1.0/LinearAlgebra/src/lu.jl:494\n",
       "[8] factorize(D::Diagonal) in LinearAlgebra at /buildworker/worker/package_linux64/build/usr/share/julia/stdlib/v1.0/LinearAlgebra/src/diagonal.jl:121\n",
       "[9] factorize(A::Bidiagonal) in LinearAlgebra at /buildworker/worker/package_linux64/build/usr/share/julia/stdlib/v1.0/LinearAlgebra/src/bidiag.jl:616\n",
       "[10] factorize(S::SymTridiagonal) in LinearAlgebra at /buildworker/worker/package_linux64/build/usr/share/julia/stdlib/v1.0/LinearAlgebra/src/ldlt.jl:99\n",
       "[11] factorize(A::SparseArrays.SparseMatrixCSC) in SparseArrays at /buildworker/worker/package_linux64/build/usr/share/julia/stdlib/v1.0/SparseArrays/src/linalg.jl:1096"
      ]
     },
     "execution_count": 19,
     "metadata": {},
     "output_type": "execute_result"
    }
   ],
   "source": [
    "methods(factorize)"
   ]
  },
  {
   "cell_type": "code",
   "execution_count": 20,
   "metadata": {},
   "outputs": [
    {
     "data": {
      "text/plain": [
       "1×3 Array{Int64,2}:\n",
       " 1  2  2"
      ]
     },
     "execution_count": 20,
     "metadata": {},
     "output_type": "execute_result"
    }
   ],
   "source": [
    "#wiersze vs kolumny\n",
    "x1=[1 2 2]"
   ]
  },
  {
   "cell_type": "code",
   "execution_count": 21,
   "metadata": {},
   "outputs": [
    {
     "data": {
      "text/plain": [
       "3-element Array{Int64,1}:\n",
       " 1\n",
       " 2\n",
       " 3"
      ]
     },
     "execution_count": 21,
     "metadata": {},
     "output_type": "execute_result"
    }
   ],
   "source": [
    "y1=[1 ;2 ;3]"
   ]
  },
  {
   "cell_type": "code",
   "execution_count": 22,
   "metadata": {},
   "outputs": [
    {
     "data": {
      "text/plain": [
       "3×1 Transpose{Int64,Array{Int64,2}}:\n",
       " 1\n",
       " 2\n",
       " 2"
      ]
     },
     "execution_count": 22,
     "metadata": {},
     "output_type": "execute_result"
    }
   ],
   "source": [
    "transpose(x1)"
   ]
  },
  {
   "cell_type": "code",
   "execution_count": 23,
   "metadata": {},
   "outputs": [
    {
     "data": {
      "text/plain": [
       "11"
      ]
     },
     "execution_count": 23,
     "metadata": {},
     "output_type": "execute_result"
    }
   ],
   "source": [
    "#iloczyn skalarny\n",
    "dot(x1,y1)"
   ]
  },
  {
   "cell_type": "markdown",
   "metadata": {},
   "source": [
    " Długosc wektora liczymy jako pierwiastek z jego iloczynu skalarnego \n",
    "$$ \\lVert\\mathbf{v}\\rVert = \\sqrt{\\mathbf{v}\\cdot \\mathbf{v}}=\\sqrt{\\sum_{i=1}^nv_i^2}$$\n",
    "\n"
   ]
  },
  {
   "cell_type": "markdown",
   "metadata": {},
   "source": [
    "#### Przykładowe dane"
   ]
  },
  {
   "cell_type": "code",
   "execution_count": 24,
   "metadata": {},
   "outputs": [
    {
     "data": {
      "text/plain": [
       "3×3 Array{Float64,2}:\n",
       " 0.866994   0.0488379  0.883123 \n",
       " 0.0655915  0.992513   0.105311 \n",
       " 0.4745     0.882556   0.0646892"
      ]
     },
     "execution_count": 24,
     "metadata": {},
     "output_type": "execute_result"
    }
   ],
   "source": [
    "#losujemy macierz 3x3\n",
    "A=rand(3,3)"
   ]
  },
  {
   "cell_type": "code",
   "execution_count": 25,
   "metadata": {},
   "outputs": [
    {
     "data": {
      "text/plain": [
       "3-element Array{Float64,1}:\n",
       " 0.23060583346135743\n",
       " 0.3316368419908964 \n",
       " 0.09340591812039567"
      ]
     },
     "execution_count": 25,
     "metadata": {},
     "output_type": "execute_result"
    }
   ],
   "source": [
    "#losujemy wektor x\n",
    "x=rand(3)"
   ]
  },
  {
   "cell_type": "code",
   "execution_count": 26,
   "metadata": {},
   "outputs": [
    {
     "data": {
      "text/plain": [
       "3-element Array{Float64,1}:\n",
       " 0.2986193129159802 \n",
       " 0.354116176493487  \n",
       " 0.40815286539072965"
      ]
     },
     "execution_count": 26,
     "metadata": {},
     "output_type": "execute_result"
    }
   ],
   "source": [
    "# wyliczamy b\n",
    "b=A*x"
   ]
  },
  {
   "cell_type": "markdown",
   "metadata": {},
   "source": [
    "Sposoby rozwiązania Ax=b"
   ]
  },
  {
   "cell_type": "code",
   "execution_count": 27,
   "metadata": {},
   "outputs": [
    {
     "data": {
      "text/plain": [
       "3-element Array{Float64,1}:\n",
       " 0.23060583346135743\n",
       " 0.33163684199089627\n",
       " 0.09340591812039567"
      ]
     },
     "execution_count": 27,
     "metadata": {},
     "output_type": "execute_result"
    }
   ],
   "source": [
    "#mozemy policzyc odwrotność macierzy i wymnożyć\n",
    "# uwaga: nieefektywne!\n",
    "inv(A) * b"
   ]
  },
  {
   "cell_type": "code",
   "execution_count": 28,
   "metadata": {},
   "outputs": [
    {
     "data": {
      "text/plain": [
       "3-element Array{Float64,1}:\n",
       " 0.23060583346135743\n",
       " 0.3316368419908964 \n",
       " 0.09340591812039566"
      ]
     },
     "execution_count": 28,
     "metadata": {},
     "output_type": "execute_result"
    }
   ],
   "source": [
    "#najlepiej używać zoptymalizowanego operatora \"\\\"\"\n",
    "x=A\\b"
   ]
  },
  {
   "cell_type": "code",
   "execution_count": 29,
   "metadata": {},
   "outputs": [
    {
     "data": {
      "text/plain": [
       "3×3 Array{Float64,2}:\n",
       " 0.866994   0.0488379  0.883123 \n",
       " 0.0655915  0.992513   0.105311 \n",
       " 0.4745     0.882556   0.0646892"
      ]
     },
     "execution_count": 29,
     "metadata": {},
     "output_type": "execute_result"
    }
   ],
   "source": [
    "A"
   ]
  },
  {
   "cell_type": "markdown",
   "metadata": {},
   "source": [
    " operator \"\\\\\" wybiera odpowiednią faktoryzację:\n",
    "- https://docs.julialang.org/en/v1/stdlib/LinearAlgebra/index.html#LinearAlgebra.factorize\n",
    "- https://docs.julialang.org/en/v1.0/stdlib/LinearAlgebra/#man-linalg-factorizations-1\n",
    " \n"
   ]
  },
  {
   "cell_type": "code",
   "execution_count": 30,
   "metadata": {},
   "outputs": [
    {
     "data": {
      "text/plain": [
       "LU{Float64,Array{Float64,2}}\n",
       "L factor:\n",
       "3×3 Array{Float64,2}:\n",
       " 1.0        0.0       0.0\n",
       " 0.0756538  1.0       0.0\n",
       " 0.547293   0.865506  1.0\n",
       "U factor:\n",
       "3×3 Array{Float64,2}:\n",
       " 0.866994  0.0488379   0.883123\n",
       " 0.0       0.988818    0.038499\n",
       " 0.0       0.0        -0.451959"
      ]
     },
     "execution_count": 30,
     "metadata": {},
     "output_type": "execute_result"
    }
   ],
   "source": [
    "# W przypadku ogólnej macierzy kwadratowej jest to faktoryzacja LU z pivotem\n",
    "Af=factorize(A)"
   ]
  },
  {
   "cell_type": "code",
   "execution_count": 31,
   "metadata": {},
   "outputs": [
    {
     "data": {
      "text/plain": [
       "3×3 Array{Float64,2}:\n",
       " 1.0        0.0       0.0\n",
       " 0.0756538  1.0       0.0\n",
       " 0.547293   0.865506  1.0"
      ]
     },
     "execution_count": 31,
     "metadata": {},
     "output_type": "execute_result"
    }
   ],
   "source": [
    "# Macierz L\n",
    "Af.L"
   ]
  },
  {
   "cell_type": "code",
   "execution_count": 32,
   "metadata": {},
   "outputs": [
    {
     "data": {
      "text/plain": [
       "3×3 Array{Float64,2}:\n",
       " 0.866994  0.0488379   0.883123\n",
       " 0.0       0.988818    0.038499\n",
       " 0.0       0.0        -0.451959"
      ]
     },
     "execution_count": 32,
     "metadata": {},
     "output_type": "execute_result"
    }
   ],
   "source": [
    "#Macierz U\n",
    "Af.U"
   ]
  },
  {
   "cell_type": "code",
   "execution_count": 33,
   "metadata": {},
   "outputs": [
    {
     "data": {
      "text/plain": [
       "3-element Array{Int64,1}:\n",
       " 1\n",
       " 2\n",
       " 3"
      ]
     },
     "execution_count": 33,
     "metadata": {},
     "output_type": "execute_result"
    }
   ],
   "source": [
    "# wektor permulatacji \n",
    "Af.p"
   ]
  },
  {
   "cell_type": "code",
   "execution_count": 34,
   "metadata": {},
   "outputs": [
    {
     "data": {
      "text/plain": [
       "LU{Float64,Array{Float64,2}}\n",
       "L factor:\n",
       "3×3 Array{Float64,2}:\n",
       " 1.0        0.0       0.0\n",
       " 0.0756538  1.0       0.0\n",
       " 0.547293   0.865506  1.0\n",
       "U factor:\n",
       "3×3 Array{Float64,2}:\n",
       " 0.866994  0.0488379   0.883123\n",
       " 0.0       0.988818    0.038499\n",
       " 0.0       0.0        -0.451959"
      ]
     },
     "execution_count": 34,
     "metadata": {},
     "output_type": "execute_result"
    }
   ],
   "source": [
    "# mozemy zamienic macierz A na postać zfaktoryzowaną\n",
    "A=factorize(A)"
   ]
  },
  {
   "cell_type": "code",
   "execution_count": 35,
   "metadata": {},
   "outputs": [
    {
     "data": {
      "text/plain": [
       "3-element Array{Float64,1}:\n",
       " 0.23060583346135743\n",
       " 0.3316368419908964 \n",
       " 0.09340591812039566"
      ]
     },
     "execution_count": 35,
     "metadata": {},
     "output_type": "execute_result"
    }
   ],
   "source": [
    "# i działać na niej operatorem \\\n",
    "# operator ten będzie wykorzytywał raz utworzony wynik faktoryzacji\n",
    "A\\b"
   ]
  },
  {
   "cell_type": "code",
   "execution_count": 36,
   "metadata": {},
   "outputs": [
    {
     "data": {
      "text/plain": [
       "3-element Array{Float64,1}:\n",
       " -1.0680981320842748\n",
       "  0.8130802035012712\n",
       "  1.6883978150767884"
      ]
     },
     "execution_count": 36,
     "metadata": {},
     "output_type": "execute_result"
    }
   ],
   "source": [
    "# dla różnych prawych stron równania z tą samą macierzą\n",
    "c=rand(3);\n",
    "A\\c"
   ]
  },
  {
   "cell_type": "markdown",
   "metadata": {},
   "source": [
    "#### Faktoryzacja QR\n"
   ]
  },
  {
   "cell_type": "code",
   "execution_count": 37,
   "metadata": {},
   "outputs": [
    {
     "data": {
      "text/plain": [
       "10×5 Array{Float64,2}:\n",
       " 0.229068   0.558812  0.460438  0.941499   0.0597555\n",
       " 0.313958   0.612049  0.117903  0.294438   0.0770437\n",
       " 0.644104   0.883881  0.530296  0.0819336  0.807152 \n",
       " 0.372124   0.984243  0.629244  0.604539   0.0119002\n",
       " 0.585835   0.905015  0.603657  0.643721   0.488557 \n",
       " 0.597503   0.525425  0.139786  0.236425   0.950747 \n",
       " 0.1844     0.638083  0.4222    0.933079   0.659035 \n",
       " 0.0652105  0.424382  0.446742  0.735236   0.119343 \n",
       " 0.0538004  0.558511  0.355997  0.271592   0.394274 \n",
       " 0.448522   0.477254  0.490094  0.625445   0.985613 "
      ]
     },
     "execution_count": 37,
     "metadata": {},
     "output_type": "execute_result"
    }
   ],
   "source": [
    "B=rand(10,5)"
   ]
  },
  {
   "cell_type": "code",
   "execution_count": 38,
   "metadata": {},
   "outputs": [
    {
     "data": {
      "text/plain": [
       "QRPivoted{Float64,Array{Float64,2}}\n",
       "Q factor:\n",
       "10×10 LinearAlgebra.QRPackedQ{Float64,Array{Float64,2}}:\n",
       " -0.258894  -0.231331    0.487545   …  -0.183303   0.183754   -0.304452 \n",
       " -0.283559  -0.244094   -0.151664       0.213829   0.213231    0.530496 \n",
       " -0.409497   0.204178   -0.526517       0.242741  -0.159976   -0.195732 \n",
       " -0.455994  -0.48212    -0.123838      -0.224902  -0.533851    0.16216  \n",
       " -0.419288  -0.0612405  -0.0238113     -0.199738   0.480308   -0.17446  \n",
       " -0.243426   0.498101   -0.130072   …   0.120347  -0.0930874  -0.30848  \n",
       " -0.29562    0.20847     0.434782      -0.156862  -0.377997   -0.155523 \n",
       " -0.196614  -0.116514    0.390372       0.82867    0.0325756  -0.0155869\n",
       " -0.258755   0.0364195  -0.130072      -0.145418   0.475901   -0.0373735\n",
       " -0.221109   0.550054    0.266292      -0.156039   0.0197889   0.640198 \n",
       "R factor:\n",
       "5×5 Array{Float64,2}:\n",
       " -2.15846  -1.34779  -1.59287    -1.15328   -1.35698  \n",
       "  0.0       1.25007  -0.0232855   0.363732   0.0207775\n",
       "  0.0       0.0       1.07421    -0.194747   0.259076 \n",
       "  0.0       0.0       0.0         0.382927  -0.0542031\n",
       "  0.0       0.0       0.0         0.0       -0.346224 \n",
       "permutation:\n",
       "5-element Array{Int64,1}:\n",
       " 2\n",
       " 5\n",
       " 4\n",
       " 1\n",
       " 3"
      ]
     },
     "execution_count": 38,
     "metadata": {},
     "output_type": "execute_result"
    }
   ],
   "source": [
    "# W przypadku ogólnej macierzy prostokątnej wybierana jest faktoryzacja QR z pivotem\n",
    "factorize(B)"
   ]
  },
  {
   "cell_type": "markdown",
   "metadata": {},
   "source": [
    "- $Q$ to macierz  ortogonalna mxm, co oznacza, że  $Q^T*Q=Q*Q^T=I$ czyli $Q^{-1}=Q^T$ (odwracanie takich macierzy jest szybkie i nie generuje dodatkowych błędów !)\n",
    "- $R$ to macierz postaci $\\begin{pmatrix} Rfactor \\\\ 0 \\end{pmatrix} $ , gdzie $Rfactor$ jest macierzą trójkątną górną, a 0 to macierz zer o wymierze nx(m-n)"
   ]
  },
  {
   "cell_type": "markdown",
   "metadata": {},
   "source": [
    "Jednym z zastosowań faktoryzacji QR jest użycie jej do metody najmniejszych kwadratów.\n",
    "\n",
    "Przykład:\n",
    "\n",
    "Obliczmy dopasowanie wielomianu $$f(x)=wsp_2*x^2+wsp_1*x+wsp_0$$ do punktów (1,1) (2,2) (3,4) (4, 4) (5,3) (6,0)\n",
    "\n",
    "- Budujemy układ równań wg wzoru $$wsp_2x_i^2+wsp_1x_i+wsp_0=y_i$$:\n",
    "$$wsp_2*1^2+wsp_1*1+wsp_0=1$$\n",
    "$$wsp_2*2^2+wsp_1*2+wsp_0=2$$\n",
    "$$wsp_2*3^2+wsp_1*3+wsp_0=4$$\n",
    "$$wsp_2*4^2+wsp_1*4+wsp_0=4$$\n",
    "$$wsp_2*5^2+wsp_1*5+wsp_0=3$$\n",
    "$$wsp_2*6^2+wsp_1*6+wsp_0=0$$\n",
    "\n",
    "- Układ ten  nie ma dokładnego rozwiązania. Możemy jednak znajeźć najlepsze przybliżenie, czyli takie $wsp_i$, które minimalizują odległość:\n",
    "\n",
    "$$\\sqrt{\\sum_{i=1}^{6}{(y_i-f(x_i))^2}}=\\lVert y-A*wsp\\rVert$$\n",
    "\n",
    "\n",
    "\n"
   ]
  },
  {
   "cell_type": "markdown",
   "metadata": {},
   "source": [
    "Jak użyć do tej mimalizacji faktoryzacji QR:\n",
    "\n",
    "1. Tworzymy macierz A na postawie $(x_i,y_i)$"
   ]
  },
  {
   "cell_type": "code",
   "execution_count": 39,
   "metadata": {},
   "outputs": [
    {
     "data": {
      "text/plain": [
       "6×3 Array{Float64,2}:\n",
       " 0.0  0.0  0.0\n",
       " 0.0  0.0  0.0\n",
       " 0.0  0.0  0.0\n",
       " 0.0  0.0  0.0\n",
       " 0.0  0.0  0.0\n",
       " 0.0  0.0  0.0"
      ]
     },
     "execution_count": 39,
     "metadata": {},
     "output_type": "execute_result"
    }
   ],
   "source": [
    "A=zeros(6,3) "
   ]
  },
  {
   "cell_type": "markdown",
   "metadata": {},
   "source": [
    " punkty $(x_i,y_i)$\n"
   ]
  },
  {
   "cell_type": "code",
   "execution_count": 40,
   "metadata": {},
   "outputs": [
    {
     "data": {
      "text/plain": [
       "6-element Array{Int64,1}:\n",
       " 1\n",
       " 2\n",
       " 4\n",
       " 4\n",
       " 3\n",
       " 0"
      ]
     },
     "execution_count": 40,
     "metadata": {},
     "output_type": "execute_result"
    }
   ],
   "source": [
    "x=[1; 2 ;3 ;4 ;5 ;6]\n",
    "y=[1; 2; 4; 4; 3; 0]"
   ]
  },
  {
   "cell_type": "code",
   "execution_count": 41,
   "metadata": {},
   "outputs": [
    {
     "data": {
      "text/plain": [
       "6-element Array{Int64,1}:\n",
       "  1\n",
       "  4\n",
       "  9\n",
       " 16\n",
       " 25\n",
       " 36"
      ]
     },
     "execution_count": 41,
     "metadata": {},
     "output_type": "execute_result"
    }
   ],
   "source": [
    "A[:,1]=x.^2"
   ]
  },
  {
   "cell_type": "code",
   "execution_count": 42,
   "metadata": {},
   "outputs": [
    {
     "data": {
      "text/plain": [
       "6-element Array{Int64,1}:\n",
       " 1\n",
       " 2\n",
       " 3\n",
       " 4\n",
       " 5\n",
       " 6"
      ]
     },
     "execution_count": 42,
     "metadata": {},
     "output_type": "execute_result"
    }
   ],
   "source": [
    "A[:,2]=x"
   ]
  },
  {
   "cell_type": "code",
   "execution_count": 43,
   "metadata": {},
   "outputs": [
    {
     "data": {
      "text/plain": [
       "6-element Array{Float64,1}:\n",
       " 1.0\n",
       " 1.0\n",
       " 1.0\n",
       " 1.0\n",
       " 1.0\n",
       " 1.0"
      ]
     },
     "execution_count": 43,
     "metadata": {},
     "output_type": "execute_result"
    }
   ],
   "source": [
    "A[:,3]=ones(6)"
   ]
  },
  {
   "cell_type": "code",
   "execution_count": 44,
   "metadata": {},
   "outputs": [
    {
     "data": {
      "text/plain": [
       "6×3 Array{Float64,2}:\n",
       "  1.0  1.0  1.0\n",
       "  4.0  2.0  1.0\n",
       "  9.0  3.0  1.0\n",
       " 16.0  4.0  1.0\n",
       " 25.0  5.0  1.0\n",
       " 36.0  6.0  1.0"
      ]
     },
     "execution_count": 44,
     "metadata": {},
     "output_type": "execute_result"
    }
   ],
   "source": [
    "A"
   ]
  },
  {
   "cell_type": "markdown",
   "metadata": {},
   "source": [
    "2. Dokonujemy faktoryzacji QR macierzy A "
   ]
  },
  {
   "cell_type": "code",
   "execution_count": 45,
   "metadata": {},
   "outputs": [
    {
     "data": {
      "text/plain": [
       "QRPivoted{Float64,Array{Float64,2}}\n",
       "Q factor:\n",
       "6×6 LinearAlgebra.QRPackedQ{Float64,Array{Float64,2}}:\n",
       " -0.0209657  -0.343313    0.838525   0.112335    -0.0400677  -0.405397\n",
       " -0.0838628  -0.521522    0.167705  -0.00636667   0.34634     0.756879\n",
       " -0.188691   -0.534625   -0.223607  -0.612934    -0.487947   -0.121617\n",
       " -0.335451   -0.382624   -0.33541    0.753648    -0.213523   -0.122449\n",
       " -0.524142   -0.0655178  -0.167705  -0.204705     0.705864   -0.390779\n",
       " -0.754765    0.416693    0.279508  -0.0419783   -0.310667    0.283364\n",
       "R factor:\n",
       "3×3 Array{Float64,2}:\n",
       " -47.697  -9.24587  -1.90788 \n",
       "   0.0    -2.34816  -1.43091 \n",
       "   0.0     0.0       0.559017\n",
       "permutation:\n",
       "3-element Array{Int64,1}:\n",
       " 1\n",
       " 2\n",
       " 3"
      ]
     },
     "execution_count": 45,
     "metadata": {},
     "output_type": "execute_result"
    }
   ],
   "source": [
    " AF=factorize(A)"
   ]
  },
  {
   "cell_type": "code",
   "execution_count": 46,
   "metadata": {},
   "outputs": [
    {
     "data": {
      "text/plain": [
       "6×6 Array{Float64,2}:\n",
       "  1.0           0.0           1.11022e-16  …   8.32667e-17   0.0        \n",
       "  0.0           1.0           9.71445e-17     -5.55112e-17  -1.249e-16  \n",
       "  1.11022e-16   9.71445e-17   1.0             -4.16334e-17   0.0        \n",
       " -9.71445e-17   3.46945e-17   2.60209e-17     -9.88792e-17  -2.08167e-17\n",
       "  8.32667e-17  -5.55112e-17  -4.16334e-17      1.0           0.0        \n",
       "  0.0          -1.249e-16     0.0          …   0.0           1.0        "
      ]
     },
     "execution_count": 46,
     "metadata": {},
     "output_type": "execute_result"
    }
   ],
   "source": [
    "# można przetestować ortogonalność:\n",
    "Transpose(AF.Q)*AF.Q"
   ]
  },
  {
   "cell_type": "markdown",
   "metadata": {},
   "source": [
    "Mamy równanie:\n",
    "$$A*wsp=y$$\n",
    "Dla $A=QR$:\n",
    "$$QR*wsp =y$$\n",
    "Możemy obydwie strony wymnożyć z lewej przez $Q^T$:\n",
    "$$R*wsp =Q^T y$$\n",
    "$$\\begin{pmatrix} Rfactor \\\\ 0 \\end{pmatrix} wsp= Q^T y$$\n",
    "\n",
    "Poszukiwanym rozwiązaniem jest rozwiązanie równania będącego górną niezerową częścią:\n",
    "$$Rfactor * wsp= Q^T y[1:n]$$\n",
    "$$wsp=Rfactor \\setminus Q^T y[1:n]$$"
   ]
  },
  {
   "cell_type": "code",
   "execution_count": 47,
   "metadata": {},
   "outputs": [
    {
     "data": {
      "text/plain": [
       "3-element Array{Float64,1}:\n",
       " -0.5714285714285727\n",
       "  3.942857142857152 \n",
       " -2.8000000000000163"
      ]
     },
     "execution_count": 47,
     "metadata": {},
     "output_type": "execute_result"
    }
   ],
   "source": [
    "# implementacja powyższego (uwaga: w tym przykladzie nie jest potrzebna permutacja,\n",
    "# bo wektor permutacji wynosi[1 2 3])\n",
    "AF.R\\((Transpose(AF.Q)*y)[1:3])"
   ]
  },
  {
   "cell_type": "markdown",
   "metadata": {},
   "source": [
    "Wiecej informacji:\n",
    "- http://www.math.uconn.edu/~leykekhman/courses/MATH3795/Lectures/Lecture_8_Linear_least_squares_orthogonal_matrices.pdf\n",
    "- http://www.seas.ucla.edu/~vandenbe/133A/lectures/qr.pdf"
   ]
  },
  {
   "cell_type": "markdown",
   "metadata": {},
   "source": [
    "W praktyce używamy tego algorytmu poprzez operator \"\\\\\", za którym jest on \"schowany\"."
   ]
  },
  {
   "cell_type": "code",
   "execution_count": 48,
   "metadata": {},
   "outputs": [
    {
     "data": {
      "text/plain": [
       "3-element Array{Float64,1}:\n",
       " -0.5714285714285726\n",
       "  3.942857142857151 \n",
       " -2.8000000000000145"
      ]
     },
     "execution_count": 48,
     "metadata": {},
     "output_type": "execute_result"
    }
   ],
   "source": [
    "A \\ y"
   ]
  },
  {
   "cell_type": "code",
   "execution_count": 49,
   "metadata": {},
   "outputs": [
    {
     "data": {
      "text/html": [
       "&#45;2.8000000000000145 &#43; 3.942857142857151&#8729;x &#45; 0.5714285714285726&#8729;x^2"
      ],
      "text/latex": [
       "$-2.8000000000000145 + 3.942857142857151\\cdot x - 0.5714285714285726\\cdot x^{2}$"
      ],
      "text/plain": [
       "Poly(-2.8000000000000145 + 3.942857142857151*x - 0.5714285714285726*x^2)"
      ]
     },
     "execution_count": 49,
     "metadata": {},
     "output_type": "execute_result"
    }
   ],
   "source": [
    "#sprawdzamy czy dostaliśmy dobre wspólczynniki\n",
    "using Polynomials\n",
    "polyfit(x,y, 2)"
   ]
  },
  {
   "cell_type": "markdown",
   "metadata": {},
   "source": [
    "Funkcja <a href=\"https://github.com/JuliaMath/Polynomials.jl/blob/ef129b779d08f791eb607e390ca9d31d8c08ead1/src/Polynomials.jl#L689-L707\">\n",
    "polyfit</a> używa własnie tej metody\n"
   ]
  },
  {
   "cell_type": "markdown",
   "metadata": {},
   "source": [
    "### Zadania"
   ]
  },
  {
   "cell_type": "markdown",
   "metadata": {},
   "source": [
    "#### Zadanie 1 \n",
    "Ustal losowe (referencyjne) x rozmiaru 1000 oraz losowe A rozmiaru 1000x1000, policz b=A*x\n",
    "Nastepnie rozwiąz rownanie Ax=b trzema metodami:\n",
    "- inv()\n",
    "- \\\n",
    "- factorize()\n",
    "\n",
    "Porównaj jakość wyniku (zmierzoną jako długość różnicy wektorów wyniku oraz referencyjnego x) oraz czas wykonania (@time). UWAGA: pierwsze wykonanie fukcji w Julii zawiera czas kompilacji tej funkcji, dlatego czas mierzymy  od drugiego wywołania !\n",
    "\n",
    "#### Zadanie 2\n",
    "Policz wspołczynniki wielomianu aproksymującego dowolne dane z poprzednich laboratoriów tworząc wprost układ równań i rozwiązujac go (metoda zaprezentowana na tym laboratorium).\n",
    "Porównaj wyniki z tymi otrzymanymi poprzednio.\n",
    "\n",
    "#### Zadanie 3\n",
    "\n",
    "Znajdź i zaprezentuj działanie innego zastosowania wybranej faktoryzacji. Przykładowe (ale nie jedyne!) tematy:\n",
    "\n",
    "-    tworzenie pseudoinversji macierzy(http://buzzard.ups.edu/courses/2014spring/420projects/math420-UPS-spring-2014-macausland-pseudo-inverse-present.pdf).\n",
    "\n",
    "-   uzycie faktoryzacji QR do znajdowania wartości własnych(https://en.wikipedia.org/wiki/QR_algorithm)\n",
    "\n",
    "-  zastosowanie faktoryzacji SVD - przykład zastosowania w uczeniu maszynowym https://blog.statsbot.co/singular-value-decomposition-tutorial-52c695315254\n",
    "\n",
    "\n"
   ]
  }
 ],
 "metadata": {
  "kernelspec": {
   "display_name": "Julia 1.0.3",
   "language": "julia",
   "name": "julia-1.0"
  },
  "language_info": {
   "file_extension": ".jl",
   "mimetype": "application/julia",
   "name": "julia",
   "version": "1.0.3"
  }
 },
 "nbformat": 4,
 "nbformat_minor": 2
}
