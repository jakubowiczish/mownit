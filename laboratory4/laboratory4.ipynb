{
 "cells": [
  {
   "cell_type": "code",
   "execution_count": 59,
   "metadata": {},
   "outputs": [
    {
     "data": {
      "text/plain": [
       "1000-element Array{Float64,1}:\n",
       " 0.5331525936370198  \n",
       " 0.7341899424514651  \n",
       " 0.6870253640037447  \n",
       " 0.1987322056558014  \n",
       " 0.653279364263085   \n",
       " 0.19946274155734045 \n",
       " 0.1744658005110722  \n",
       " 0.31867093861024287 \n",
       " 0.24962703339345182 \n",
       " 0.04442353683681688 \n",
       " 0.1123924424073568  \n",
       " 0.7720311506388171  \n",
       " 0.3261919810440901  \n",
       " ⋮                   \n",
       " 0.4492750801391594  \n",
       " 0.7267356868142052  \n",
       " 0.8539457304715086  \n",
       " 0.44701933311768016 \n",
       " 0.4598473792496591  \n",
       " 0.4081238767095279  \n",
       " 0.6006500487717492  \n",
       " 0.04094832911492574 \n",
       " 0.0653847829369596  \n",
       " 0.24805584791165813 \n",
       " 0.5623740006764564  \n",
       " 0.027238505901500787"
      ]
     },
     "execution_count": 59,
     "metadata": {},
     "output_type": "execute_result"
    }
   ],
   "source": [
    "x = rand(1000)\n",
    "A = rand(1000, 1000)\n",
    "b = A * x\n",
    "\n",
    "inv_x = inv(A) * b"
   ]
  },
  {
   "cell_type": "code",
   "execution_count": 60,
   "metadata": {},
   "outputs": [
    {
     "data": {
      "text/plain": [
       "0.162292942"
      ]
     },
     "execution_count": 60,
     "metadata": {},
     "output_type": "execute_result"
    }
   ],
   "source": [
    "time_inv = @elapsed inv(A) * b"
   ]
  },
  {
   "cell_type": "code",
   "execution_count": 61,
   "metadata": {
    "scrolled": true
   },
   "outputs": [
    {
     "data": {
      "text/plain": [
       "1000-element Array{Float64,1}:\n",
       " 0.5331525936371582 \n",
       " 0.7341899424515812 \n",
       " 0.687025364003877  \n",
       " 0.19873220565604544\n",
       " 0.6532793642627677 \n",
       " 0.1994627415575887 \n",
       " 0.17446580051131777\n",
       " 0.3186709386096096 \n",
       " 0.2496270333936783 \n",
       " 0.04442353683743394\n",
       " 0.11239244240793411\n",
       " 0.7720311506394895 \n",
       " 0.32619198104359937\n",
       " ⋮                  \n",
       " 0.4492750801390435 \n",
       " 0.7267356868146013 \n",
       " 0.8539457304710198 \n",
       " 0.4470193331169441 \n",
       " 0.45984737924934005\n",
       " 0.40812387670897254\n",
       " 0.6006500487719701 \n",
       " 0.04094832911491508\n",
       " 0.06538478293724315\n",
       " 0.2480558479121604 \n",
       " 0.5623740006758435 \n",
       " 0.0272385059017195 "
      ]
     },
     "execution_count": 61,
     "metadata": {},
     "output_type": "execute_result"
    }
   ],
   "source": [
    "x"
   ]
  },
  {
   "cell_type": "code",
   "execution_count": 62,
   "metadata": {},
   "outputs": [
    {
     "data": {
      "text/plain": [
       "1000-element Array{Float64,1}:\n",
       " 0.533152593637095   \n",
       " 0.7341899424518088  \n",
       " 0.6870253640037324  \n",
       " 0.19873220565592792 \n",
       " 0.6532793642629394  \n",
       " 0.19946274155759133 \n",
       " 0.1744658005111902  \n",
       " 0.3186709386097471  \n",
       " 0.24962703339368086 \n",
       " 0.044423536837581525\n",
       " 0.11239244240759749 \n",
       " 0.7720311506390916  \n",
       " 0.3261919810435866  \n",
       " ⋮                   \n",
       " 0.4492750801396776  \n",
       " 0.7267356868140932  \n",
       " 0.8539457304714447  \n",
       " 0.4470193331170585  \n",
       " 0.45984737924991    \n",
       " 0.40812387670883876 \n",
       " 0.6006500487718286  \n",
       " 0.04094832911492502 \n",
       " 0.06538478293729304 \n",
       " 0.24805584791250598 \n",
       " 0.5623740006757256  \n",
       " 0.027238505901547652"
      ]
     },
     "execution_count": 62,
     "metadata": {},
     "output_type": "execute_result"
    }
   ],
   "source": [
    "slash_x = A\\b"
   ]
  },
  {
   "cell_type": "code",
   "execution_count": 63,
   "metadata": {},
   "outputs": [
    {
     "data": {
      "text/plain": [
       "0.021188949"
      ]
     },
     "execution_count": 63,
     "metadata": {},
     "output_type": "execute_result"
    }
   ],
   "source": [
    "time_slash = @elapsed A\\b"
   ]
  },
  {
   "cell_type": "code",
   "execution_count": 64,
   "metadata": {},
   "outputs": [
    {
     "data": {
      "text/plain": [
       "0.000631896"
      ]
     },
     "execution_count": 64,
     "metadata": {},
     "output_type": "execute_result"
    }
   ],
   "source": [
    "using (LinearAlgebra)\n",
    "fact = factorize(A)\n",
    "fact_x = fact\\b\n",
    "time_fact = @elapsed fact\\b"
   ]
  },
  {
   "cell_type": "code",
   "execution_count": 51,
   "metadata": {},
   "outputs": [
    {
     "data": {
      "text/plain": [
       "1000-element Array{Float64,1}:\n",
       " 0.5961057630585528 \n",
       " 0.7853755600975466 \n",
       " 0.1075323775501299 \n",
       " 0.890944140253903  \n",
       " 0.9390740439403974 \n",
       " 0.1892331473305809 \n",
       " 0.5384767525646195 \n",
       " 0.30614617277128103\n",
       " 0.6178923162942277 \n",
       " 0.07182460668862863\n",
       " 0.28274174723563733\n",
       " 0.2745738022048082 \n",
       " 0.6615940331861284 \n",
       " ⋮                  \n",
       " 0.863159618249339  \n",
       " 0.7395071550424225 \n",
       " 0.7956833688246737 \n",
       " 0.7977514600837157 \n",
       " 0.35876189690118426\n",
       " 0.37012947964434356\n",
       " 0.5919270847775694 \n",
       " 0.6982950923843892 \n",
       " 0.6610236235222815 \n",
       " 0.6342659342949994 \n",
       " 0.613860769211796  \n",
       " 0.3016786549505876 "
      ]
     },
     "execution_count": 51,
     "metadata": {},
     "output_type": "execute_result"
    }
   ],
   "source": [
    "fact_x"
   ]
  },
  {
   "cell_type": "code",
   "execution_count": 52,
   "metadata": {},
   "outputs": [
    {
     "data": {
      "text/plain": [
       "1.9420045018554646e-11"
      ]
     },
     "execution_count": 52,
     "metadata": {},
     "output_type": "execute_result"
    }
   ],
   "source": [
    "temp_inv = x - inv_x\n",
    "sqrt(dot(temp_inv, temp_inv))"
   ]
  },
  {
   "cell_type": "code",
   "execution_count": 54,
   "metadata": {},
   "outputs": [
    {
     "data": {
      "text/plain": [
       "1.1760365027851747e-11"
      ]
     },
     "execution_count": 54,
     "metadata": {},
     "output_type": "execute_result"
    }
   ],
   "source": [
    "temp_slash = x - slash_x\n",
    "sqrt(dot(temp_slash, temp_slash))"
   ]
  },
  {
   "cell_type": "code",
   "execution_count": 29,
   "metadata": {},
   "outputs": [
    {
     "data": {
      "text/plain": [
       "1.6177429602858383e-11"
      ]
     },
     "execution_count": 29,
     "metadata": {},
     "output_type": "execute_result"
    }
   ],
   "source": [
    "temp_fact = x - fact_x\n",
    "sqrt(dot(temp_fact, temp_fact))"
   ]
  },
  {
   "cell_type": "code",
   "execution_count": 3,
   "metadata": {},
   "outputs": [
    {
     "data": {
      "text/html": [
       "&#45;1.6400650642156497e7 &#43; 476006.82966026437&#8729;x &#45; 3171.7629790068563&#8729;x^2 &#43; 10.713250877618268&#8729;x^3"
      ],
      "text/latex": [
       "$-1.6400650642156497e7 + 476006.82966026437\\cdot x - 3171.7629790068563\\cdot x^{2} + 10.713250877618268\\cdot x^{3}$"
      ],
      "text/plain": [
       "Poly(-1.6400650642156497e7 + 476006.82966026437*x - 3171.7629790068563*x^2 + 10.713250877618268*x^3)"
      ]
     },
     "execution_count": 3,
     "metadata": {},
     "output_type": "execute_result"
    }
   ],
   "source": [
    "using CSV\n",
    "using DataFrames\n",
    "using Statistics\n",
    "using Plots\n",
    "using Polynomials\n",
    "\n",
    "input=\"resultlab3.csv\"\n",
    "myData=DataFrame()\n",
    "myData=CSV.read(input, delim=\",\")\n",
    "dfg2=by(myData, :SIZE, avg_n_time=:NAIVE => mean, avg_b_time=:BETTER => mean, avg_g_time=:GSL => mean)\n",
    "\n",
    "y=dfg2[:avg_n_time]\n",
    "x=dfg2[:SIZE]\n",
    "\n",
    "fitNaive=polyfit(x,y,3)"
   ]
  },
  {
   "cell_type": "code",
   "execution_count": 4,
   "metadata": {},
   "outputs": [
    {
     "data": {
      "text/plain": [
       "19×4 Array{Float64,2}:\n",
       "  15625.0           625.0   25.0  1.0\n",
       " 125000.0          2500.0   50.0  1.0\n",
       " 421875.0          5625.0   75.0  1.0\n",
       "      1.0e6       10000.0  100.0  1.0\n",
       "      1.95313e6   15625.0  125.0  1.0\n",
       "      3.375e6     22500.0  150.0  1.0\n",
       "      5.35938e6   30625.0  175.0  1.0\n",
       "      8.0e6       40000.0  200.0  1.0\n",
       "      1.13906e7   50625.0  225.0  1.0\n",
       "      1.5625e7    62500.0  250.0  1.0\n",
       "      2.07969e7   75625.0  275.0  1.0\n",
       "      2.7e7       90000.0  300.0  1.0\n",
       "      3.43281e7  105625.0  325.0  1.0\n",
       "      4.2875e7   122500.0  350.0  1.0\n",
       "      5.27344e7  140625.0  375.0  1.0\n",
       "      6.4e7      160000.0  400.0  1.0\n",
       "      7.67656e7  180625.0  425.0  1.0\n",
       "      9.1125e7   202500.0  450.0  1.0\n",
       "      1.07172e8  225625.0  475.0  1.0"
      ]
     },
     "execution_count": 4,
     "metadata": {},
     "output_type": "execute_result"
    }
   ],
   "source": [
    "len = length(x)\n",
    "\n",
    "A = zeros(len, 4)\n",
    "A[:,1] = x.^3\n",
    "A[:,2] = x.^2\n",
    "A[:,3] = x\n",
    "A[:,4] = ones(len)\n",
    "\n",
    "A"
   ]
  },
  {
   "cell_type": "code",
   "execution_count": 5,
   "metadata": {},
   "outputs": [
    {
     "data": {
      "text/plain": [
       "4-element Array{Float64,1}:\n",
       "     10.713250877618268   \n",
       "  -3171.7629790068563     \n",
       " 476006.82966026437       \n",
       "     -1.6400650642156497e7"
      ]
     },
     "execution_count": 5,
     "metadata": {},
     "output_type": "execute_result"
    }
   ],
   "source": [
    "A\\y"
   ]
  }
 ],
 "metadata": {
  "kernelspec": {
   "display_name": "Julia 1.0.3",
   "language": "julia",
   "name": "julia-1.0"
  },
  "language_info": {
   "file_extension": ".jl",
   "mimetype": "application/julia",
   "name": "julia",
   "version": "1.0.3"
  }
 },
 "nbformat": 4,
 "nbformat_minor": 2
}
