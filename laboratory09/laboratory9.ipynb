{
 "cells": [
  {
   "cell_type": "code",
   "execution_count": 1,
   "metadata": {},
   "outputs": [
    {
     "name": "stdout",
     "output_type": "stream",
     "text": [
      "\u001b[32m\u001b[1m  Updating\u001b[22m\u001b[39m registry at `~/.julia/registries/General`\n",
      "\u001b[32m\u001b[1m  Updating\u001b[22m\u001b[39m git-repo `https://github.com/JuliaRegistries/General.git`\n",
      "\u001b[2K\u001b[?25h[1mFetching:\u001b[22m\u001b[39m [========================================>]  100.0 %.0 %\u001b[32m\u001b[1m Resolving\u001b[22m\u001b[39m package versions...\n",
      "\u001b[32m\u001b[1m Installed\u001b[22m\u001b[39m ImageMorphology ─ v0.2.2\n",
      "\u001b[32m\u001b[1m  Updating\u001b[22m\u001b[39m `~/.julia/environments/v1.1/Project.toml`\n",
      "\u001b[90m [no changes]\u001b[39m\n",
      "\u001b[32m\u001b[1m  Updating\u001b[22m\u001b[39m `~/.julia/environments/v1.1/Manifest.toml`\n",
      " "
     ]
    },
    {
     "data": {
      "image/svg+xml": [
       "<?xml version=\"1.0\" encoding=\"utf-8\"?>\n",
       "<svg xmlns=\"http://www.w3.org/2000/svg\" xmlns:xlink=\"http://www.w3.org/1999/xlink\" width=\"600\" height=\"400\" viewBox=\"0 0 2400 1600\">\n",
       "<defs>\n",
       "  <clipPath id=\"clip6200\">\n",
       "    <rect x=\"0\" y=\"0\" width=\"2400\" height=\"1600\"/>\n",
       "  </clipPath>\n",
       "</defs>\n",
       "<polygon clip-path=\"url(#clip6200)\" points=\"\n",
       "0,1600 2400,1600 2400,0 0,0 \n",
       "  \" fill=\"#ffffff\" fill-rule=\"evenodd\" fill-opacity=\"1\"/>\n",
       "<defs>\n",
       "  <clipPath id=\"clip6201\">\n",
       "    <rect x=\"480\" y=\"0\" width=\"1681\" height=\"1600\"/>\n",
       "  </clipPath>\n",
       "</defs>\n",
       "<polygon clip-path=\"url(#clip6200)\" points=\"\n",
       "189.504,1503.47 2321.26,1503.47 2321.26,47.2441 189.504,47.2441 \n",
       "  \" fill=\"#ffffff\" fill-rule=\"evenodd\" fill-opacity=\"1\"/>\n",
       "<defs>\n",
       "  <clipPath id=\"clip6202\">\n",
       "    <rect x=\"189\" y=\"47\" width=\"2133\" height=\"1457\"/>\n",
       "  </clipPath>\n",
       "</defs>\n",
       "<polyline clip-path=\"url(#clip6202)\" style=\"stroke:#000000; stroke-width:2; stroke-opacity:0.1; fill:none\" points=\"\n",
       "  249.837,1503.47 249.837,47.2441 \n",
       "  \"/>\n",
       "<polyline clip-path=\"url(#clip6202)\" style=\"stroke:#000000; stroke-width:2; stroke-opacity:0.1; fill:none\" points=\"\n",
       "  752.609,1503.47 752.609,47.2441 \n",
       "  \"/>\n",
       "<polyline clip-path=\"url(#clip6202)\" style=\"stroke:#000000; stroke-width:2; stroke-opacity:0.1; fill:none\" points=\"\n",
       "  1255.38,1503.47 1255.38,47.2441 \n",
       "  \"/>\n",
       "<polyline clip-path=\"url(#clip6202)\" style=\"stroke:#000000; stroke-width:2; stroke-opacity:0.1; fill:none\" points=\"\n",
       "  1758.15,1503.47 1758.15,47.2441 \n",
       "  \"/>\n",
       "<polyline clip-path=\"url(#clip6202)\" style=\"stroke:#000000; stroke-width:2; stroke-opacity:0.1; fill:none\" points=\"\n",
       "  2260.93,1503.47 2260.93,47.2441 \n",
       "  \"/>\n",
       "<polyline clip-path=\"url(#clip6202)\" style=\"stroke:#000000; stroke-width:2; stroke-opacity:0.1; fill:none\" points=\"\n",
       "  189.504,1462.26 2321.26,1462.26 \n",
       "  \"/>\n",
       "<polyline clip-path=\"url(#clip6202)\" style=\"stroke:#000000; stroke-width:2; stroke-opacity:0.1; fill:none\" points=\"\n",
       "  189.504,1118.81 2321.26,1118.81 \n",
       "  \"/>\n",
       "<polyline clip-path=\"url(#clip6202)\" style=\"stroke:#000000; stroke-width:2; stroke-opacity:0.1; fill:none\" points=\"\n",
       "  189.504,775.359 2321.26,775.359 \n",
       "  \"/>\n",
       "<polyline clip-path=\"url(#clip6202)\" style=\"stroke:#000000; stroke-width:2; stroke-opacity:0.1; fill:none\" points=\"\n",
       "  189.504,431.909 2321.26,431.909 \n",
       "  \"/>\n",
       "<polyline clip-path=\"url(#clip6202)\" style=\"stroke:#000000; stroke-width:2; stroke-opacity:0.1; fill:none\" points=\"\n",
       "  189.504,88.4582 2321.26,88.4582 \n",
       "  \"/>\n",
       "<polyline clip-path=\"url(#clip6200)\" style=\"stroke:#000000; stroke-width:4; stroke-opacity:1; fill:none\" points=\"\n",
       "  189.504,1503.47 2321.26,1503.47 \n",
       "  \"/>\n",
       "<polyline clip-path=\"url(#clip6200)\" style=\"stroke:#000000; stroke-width:4; stroke-opacity:1; fill:none\" points=\"\n",
       "  189.504,1503.47 189.504,47.2441 \n",
       "  \"/>\n",
       "<polyline clip-path=\"url(#clip6200)\" style=\"stroke:#000000; stroke-width:4; stroke-opacity:1; fill:none\" points=\"\n",
       "  249.837,1503.47 249.837,1481.63 \n",
       "  \"/>\n",
       "<polyline clip-path=\"url(#clip6200)\" style=\"stroke:#000000; stroke-width:4; stroke-opacity:1; fill:none\" points=\"\n",
       "  752.609,1503.47 752.609,1481.63 \n",
       "  \"/>\n",
       "<polyline clip-path=\"url(#clip6200)\" style=\"stroke:#000000; stroke-width:4; stroke-opacity:1; fill:none\" points=\"\n",
       "  1255.38,1503.47 1255.38,1481.63 \n",
       "  \"/>\n",
       "<polyline clip-path=\"url(#clip6200)\" style=\"stroke:#000000; stroke-width:4; stroke-opacity:1; fill:none\" points=\"\n",
       "  1758.15,1503.47 1758.15,1481.63 \n",
       "  \"/>\n",
       "<polyline clip-path=\"url(#clip6200)\" style=\"stroke:#000000; stroke-width:4; stroke-opacity:1; fill:none\" points=\"\n",
       "  2260.93,1503.47 2260.93,1481.63 \n",
       "  \"/>\n",
       "<polyline clip-path=\"url(#clip6200)\" style=\"stroke:#000000; stroke-width:4; stroke-opacity:1; fill:none\" points=\"\n",
       "  189.504,1462.26 221.48,1462.26 \n",
       "  \"/>\n",
       "<polyline clip-path=\"url(#clip6200)\" style=\"stroke:#000000; stroke-width:4; stroke-opacity:1; fill:none\" points=\"\n",
       "  189.504,1118.81 221.48,1118.81 \n",
       "  \"/>\n",
       "<polyline clip-path=\"url(#clip6200)\" style=\"stroke:#000000; stroke-width:4; stroke-opacity:1; fill:none\" points=\"\n",
       "  189.504,775.359 221.48,775.359 \n",
       "  \"/>\n",
       "<polyline clip-path=\"url(#clip6200)\" style=\"stroke:#000000; stroke-width:4; stroke-opacity:1; fill:none\" points=\"\n",
       "  189.504,431.909 221.48,431.909 \n",
       "  \"/>\n",
       "<polyline clip-path=\"url(#clip6200)\" style=\"stroke:#000000; stroke-width:4; stroke-opacity:1; fill:none\" points=\"\n",
       "  189.504,88.4582 221.48,88.4582 \n",
       "  \"/>\n",
       "<g clip-path=\"url(#clip6200)\">\n",
       "<text style=\"fill:#000000; fill-opacity:1; font-family:Arial,Helvetica Neue,Helvetica,sans-serif; font-size:48px; text-anchor:middle;\" transform=\"rotate(0, 249.837, 1557.47)\" x=\"249.837\" y=\"1557.47\">-1.0</text>\n",
       "</g>\n",
       "<g clip-path=\"url(#clip6200)\">\n",
       "<text style=\"fill:#000000; fill-opacity:1; font-family:Arial,Helvetica Neue,Helvetica,sans-serif; font-size:48px; text-anchor:middle;\" transform=\"rotate(0, 752.609, 1557.47)\" x=\"752.609\" y=\"1557.47\">-0.5</text>\n",
       "</g>\n",
       "<g clip-path=\"url(#clip6200)\">\n",
       "<text style=\"fill:#000000; fill-opacity:1; font-family:Arial,Helvetica Neue,Helvetica,sans-serif; font-size:48px; text-anchor:middle;\" transform=\"rotate(0, 1255.38, 1557.47)\" x=\"1255.38\" y=\"1557.47\">0.0</text>\n",
       "</g>\n",
       "<g clip-path=\"url(#clip6200)\">\n",
       "<text style=\"fill:#000000; fill-opacity:1; font-family:Arial,Helvetica Neue,Helvetica,sans-serif; font-size:48px; text-anchor:middle;\" transform=\"rotate(0, 1758.15, 1557.47)\" x=\"1758.15\" y=\"1557.47\">0.5</text>\n",
       "</g>\n",
       "<g clip-path=\"url(#clip6200)\">\n",
       "<text style=\"fill:#000000; fill-opacity:1; font-family:Arial,Helvetica Neue,Helvetica,sans-serif; font-size:48px; text-anchor:middle;\" transform=\"rotate(0, 2260.93, 1557.47)\" x=\"2260.93\" y=\"1557.47\">1.0</text>\n",
       "</g>\n",
       "<g clip-path=\"url(#clip6200)\">\n",
       "<text style=\"fill:#000000; fill-opacity:1; font-family:Arial,Helvetica Neue,Helvetica,sans-serif; font-size:48px; text-anchor:end;\" transform=\"rotate(0, 165.504, 1479.76)\" x=\"165.504\" y=\"1479.76\">-1.0</text>\n",
       "</g>\n",
       "<g clip-path=\"url(#clip6200)\">\n",
       "<text style=\"fill:#000000; fill-opacity:1; font-family:Arial,Helvetica Neue,Helvetica,sans-serif; font-size:48px; text-anchor:end;\" transform=\"rotate(0, 165.504, 1136.31)\" x=\"165.504\" y=\"1136.31\">-0.5</text>\n",
       "</g>\n",
       "<g clip-path=\"url(#clip6200)\">\n",
       "<text style=\"fill:#000000; fill-opacity:1; font-family:Arial,Helvetica Neue,Helvetica,sans-serif; font-size:48px; text-anchor:end;\" transform=\"rotate(0, 165.504, 792.859)\" x=\"165.504\" y=\"792.859\">0.0</text>\n",
       "</g>\n",
       "<g clip-path=\"url(#clip6200)\">\n",
       "<text style=\"fill:#000000; fill-opacity:1; font-family:Arial,Helvetica Neue,Helvetica,sans-serif; font-size:48px; text-anchor:end;\" transform=\"rotate(0, 165.504, 449.409)\" x=\"165.504\" y=\"449.409\">0.5</text>\n",
       "</g>\n",
       "<g clip-path=\"url(#clip6200)\">\n",
       "<text style=\"fill:#000000; fill-opacity:1; font-family:Arial,Helvetica Neue,Helvetica,sans-serif; font-size:48px; text-anchor:end;\" transform=\"rotate(0, 165.504, 105.958)\" x=\"165.504\" y=\"105.958\">1.0</text>\n",
       "</g>\n",
       "<polyline clip-path=\"url(#clip6202)\" style=\"stroke:#009af9; stroke-width:4; stroke-opacity:1; fill:none\" points=\"\n",
       "  249.837,88.4582 300.114,88.4582 350.391,88.4582 400.669,88.4582 450.946,88.4582 501.223,88.4582 551.5,88.4582 601.778,88.4582 652.055,88.4582 702.332,88.4582 \n",
       "  752.609,88.4582 802.887,88.4582 853.164,88.4582 903.441,88.4582 953.718,88.4582 1004,88.4582 1054.27,88.4582 1104.55,88.4582 1154.83,88.4582 1205.1,88.4582 \n",
       "  1255.38,88.4582 1305.66,88.4582 1355.94,88.4582 1406.21,88.4582 1456.49,88.4582 1506.77,88.4582 1557.05,88.4582 1607.32,88.4582 1657.6,88.4582 1707.88,88.4582 \n",
       "  1758.15,88.4582 1808.43,88.4582 1858.71,88.4582 1908.99,88.4582 1959.26,88.4582 2009.54,88.4582 2059.82,88.4582 2110.1,88.4582 2160.37,88.4582 2210.65,88.4582 \n",
       "  2260.93,88.4582 \n",
       "  \"/>\n",
       "<polyline clip-path=\"url(#clip6202)\" style=\"stroke:#e26f46; stroke-width:4; stroke-opacity:1; fill:none\" points=\"\n",
       "  249.837,1462.26 300.114,1427.92 350.391,1393.57 400.669,1359.23 450.946,1324.88 501.223,1290.54 551.5,1256.19 601.778,1221.85 652.055,1187.5 702.332,1153.16 \n",
       "  752.609,1118.81 802.887,1084.46 853.164,1050.12 903.441,1015.77 953.718,981.43 1004,947.085 1054.27,912.74 1104.55,878.395 1154.83,844.05 1205.1,809.704 \n",
       "  1255.38,775.359 1305.66,741.014 1355.94,706.669 1406.21,672.324 1456.49,637.979 1506.77,603.634 1557.05,569.289 1607.32,534.944 1657.6,500.599 1707.88,466.254 \n",
       "  1758.15,431.909 1808.43,397.564 1858.71,363.219 1908.99,328.874 1959.26,294.529 2009.54,260.183 2059.82,225.838 2110.1,191.493 2160.37,157.148 2210.65,122.803 \n",
       "  2260.93,88.4582 \n",
       "  \"/>\n",
       "<polyline clip-path=\"url(#clip6202)\" style=\"stroke:#3da44d; stroke-width:4; stroke-opacity:1; fill:none\" points=\"\n",
       "  249.837,88.4582 300.114,188.917 350.391,284.225 400.669,374.381 450.946,459.385 501.223,539.237 551.5,613.938 601.778,683.486 652.055,747.883 702.332,807.129 \n",
       "  752.609,861.222 802.887,910.164 853.164,953.954 903.441,992.592 953.718,1026.08 1004,1054.41 1054.27,1077.6 1104.55,1095.63 1154.83,1108.51 1205.1,1116.23 \n",
       "  1255.38,1118.81 1305.66,1116.23 1355.94,1108.51 1406.21,1095.63 1456.49,1077.6 1506.77,1054.41 1557.05,1026.08 1607.32,992.592 1657.6,953.954 1707.88,910.164 \n",
       "  1758.15,861.222 1808.43,807.129 1858.71,747.883 1908.99,683.486 1959.26,613.938 2009.54,539.237 2059.82,459.385 2110.1,374.381 2160.37,284.225 2210.65,188.917 \n",
       "  2260.93,88.4582 \n",
       "  \"/>\n",
       "<polyline clip-path=\"url(#clip6202)\" style=\"stroke:#c271d2; stroke-width:4; stroke-opacity:1; fill:none\" points=\"\n",
       "  249.837,1462.26 300.114,1268.86 350.391,1099.92 400.669,954.168 450.946,830.312 501.223,727.062 551.5,643.131 601.778,577.231 652.055,528.075 702.332,494.374 \n",
       "  752.609,474.84 802.887,468.186 853.164,473.123 903.441,488.363 953.718,512.62 1004,544.604 1054.27,583.027 1104.55,626.602 1154.83,674.041 1205.1,724.056 \n",
       "  1255.38,775.359 1305.66,826.662 1355.94,876.677 1406.21,924.116 1456.49,967.692 1506.77,1006.12 1557.05,1038.1 1607.32,1062.36 1657.6,1077.6 1707.88,1082.53 \n",
       "  1758.15,1075.88 1808.43,1056.34 1858.71,1022.64 1908.99,973.487 1959.26,907.588 2009.54,823.657 2059.82,720.407 2110.1,596.55 2160.37,450.799 2210.65,281.864 \n",
       "  2260.93,88.4582 \n",
       "  \"/>\n",
       "<polyline clip-path=\"url(#clip6202)\" style=\"stroke:#ac8d18; stroke-width:4; stroke-opacity:1; fill:none\" points=\"\n",
       "  249.837,88.4582 300.114,394.754 350.391,632.527 400.669,810.115 450.946,935.407 501.223,1015.84 551.5,1058.41 601.778,1069.63 652.055,1055.62 702.332,1021.98 \n",
       "  752.609,973.917 802.887,916.155 853.164,852.979 903.441,788.22 953.718,725.259 1004,667.025 1054.27,615.998 1104.55,574.207 1154.83,543.23 1205.1,524.192 \n",
       "  1255.38,517.771 1305.66,524.192 1355.94,543.23 1406.21,574.207 1456.49,615.998 1506.77,667.025 1557.05,725.259 1607.32,788.22 1657.6,852.979 1707.88,916.155 \n",
       "  1758.15,973.917 1808.43,1021.98 1858.71,1055.62 1908.99,1069.63 1959.26,1058.41 2009.54,1015.84 2059.82,935.407 2110.1,810.115 2160.37,632.527 2210.65,394.754 \n",
       "  2260.93,88.4582 \n",
       "  \"/>\n",
       "<polyline clip-path=\"url(#clip6202)\" style=\"stroke:#00a9ad; stroke-width:4; stroke-opacity:1; fill:none\" points=\"\n",
       "  249.837,1462.26 300.114,1031.4 350.391,747.099 400.669,579.136 450.946,500.929 501.223,489.346 551.5,524.504 601.778,589.56 652.055,670.511 702.332,755.992 \n",
       "  752.609,837.073 802.887,907.054 853.164,961.262 903.441,996.854 953.718,1012.61 1004,1008.71 1054.27,986.595 1104.55,948.676 1154.83,898.197 1205.1,839.007 \n",
       "  1255.38,775.359 1305.66,711.712 1355.94,652.522 1406.21,602.043 1456.49,564.124 1506.77,542.004 1557.05,538.113 1607.32,553.865 1657.6,589.456 1707.88,643.665 \n",
       "  1758.15,713.646 1808.43,794.726 1858.71,880.208 1908.99,961.159 1959.26,1026.21 2009.54,1061.37 2059.82,1049.79 2110.1,971.583 2160.37,803.619 2210.65,519.321 \n",
       "  2260.93,88.4582 \n",
       "  \"/>\n",
       "<polyline clip-path=\"url(#clip6202)\" style=\"stroke:#ed5d92; stroke-width:4; stroke-opacity:1; fill:none\" points=\"\n",
       "  249.837,88.4582 300.114,646.597 350.391,941.015 400.669,1052.18 450.946,1044.48 501.223,968.225 551.5,861.419 601.778,751.541 652.055,657.146 702.332,589.37 \n",
       "  752.609,553.324 802.887,549.382 853.164,574.347 903.441,622.517 953.718,686.625 1004,758.684 1054.27,830.707 1104.55,895.324 1154.83,946.281 1205.1,978.831 \n",
       "  1255.38,990.016 1305.66,978.831 1355.94,946.281 1406.21,895.324 1456.49,830.707 1506.77,758.684 1557.05,686.625 1607.32,622.517 1657.6,574.347 1707.88,549.382 \n",
       "  1758.15,553.324 1808.43,589.37 1858.71,657.146 1908.99,751.541 1959.26,861.419 2009.54,968.225 2059.82,1044.48 2110.1,1052.18 2160.37,941.015 2210.65,646.597 \n",
       "  2260.93,88.4582 \n",
       "  \"/>\n",
       "<polygon clip-path=\"url(#clip6200)\" points=\"\n",
       "1982.5,614.604 2249.26,614.604 2249.26,130.764 1982.5,130.764 \n",
       "  \" fill=\"#ffffff\" fill-rule=\"evenodd\" fill-opacity=\"1\"/>\n",
       "<polyline clip-path=\"url(#clip6200)\" style=\"stroke:#000000; stroke-width:4; stroke-opacity:1; fill:none\" points=\"\n",
       "  1982.5,614.604 2249.26,614.604 2249.26,130.764 1982.5,130.764 1982.5,614.604 \n",
       "  \"/>\n",
       "<polyline clip-path=\"url(#clip6200)\" style=\"stroke:#009af9; stroke-width:4; stroke-opacity:1; fill:none\" points=\"\n",
       "  2006.5,191.244 2150.5,191.244 \n",
       "  \"/>\n",
       "<g clip-path=\"url(#clip6200)\">\n",
       "<text style=\"fill:#000000; fill-opacity:1; font-family:Arial,Helvetica Neue,Helvetica,sans-serif; font-size:48px; text-anchor:start;\" transform=\"rotate(0, 2174.5, 208.744)\" x=\"2174.5\" y=\"208.744\">0</text>\n",
       "</g>\n",
       "<polyline clip-path=\"url(#clip6200)\" style=\"stroke:#e26f46; stroke-width:4; stroke-opacity:1; fill:none\" points=\"\n",
       "  2006.5,251.724 2150.5,251.724 \n",
       "  \"/>\n",
       "<g clip-path=\"url(#clip6200)\">\n",
       "<text style=\"fill:#000000; fill-opacity:1; font-family:Arial,Helvetica Neue,Helvetica,sans-serif; font-size:48px; text-anchor:start;\" transform=\"rotate(0, 2174.5, 269.224)\" x=\"2174.5\" y=\"269.224\">1</text>\n",
       "</g>\n",
       "<polyline clip-path=\"url(#clip6200)\" style=\"stroke:#3da44d; stroke-width:4; stroke-opacity:1; fill:none\" points=\"\n",
       "  2006.5,312.204 2150.5,312.204 \n",
       "  \"/>\n",
       "<g clip-path=\"url(#clip6200)\">\n",
       "<text style=\"fill:#000000; fill-opacity:1; font-family:Arial,Helvetica Neue,Helvetica,sans-serif; font-size:48px; text-anchor:start;\" transform=\"rotate(0, 2174.5, 329.704)\" x=\"2174.5\" y=\"329.704\">2</text>\n",
       "</g>\n",
       "<polyline clip-path=\"url(#clip6200)\" style=\"stroke:#c271d2; stroke-width:4; stroke-opacity:1; fill:none\" points=\"\n",
       "  2006.5,372.684 2150.5,372.684 \n",
       "  \"/>\n",
       "<g clip-path=\"url(#clip6200)\">\n",
       "<text style=\"fill:#000000; fill-opacity:1; font-family:Arial,Helvetica Neue,Helvetica,sans-serif; font-size:48px; text-anchor:start;\" transform=\"rotate(0, 2174.5, 390.184)\" x=\"2174.5\" y=\"390.184\">3</text>\n",
       "</g>\n",
       "<polyline clip-path=\"url(#clip6200)\" style=\"stroke:#ac8d18; stroke-width:4; stroke-opacity:1; fill:none\" points=\"\n",
       "  2006.5,433.164 2150.5,433.164 \n",
       "  \"/>\n",
       "<g clip-path=\"url(#clip6200)\">\n",
       "<text style=\"fill:#000000; fill-opacity:1; font-family:Arial,Helvetica Neue,Helvetica,sans-serif; font-size:48px; text-anchor:start;\" transform=\"rotate(0, 2174.5, 450.664)\" x=\"2174.5\" y=\"450.664\">4</text>\n",
       "</g>\n",
       "<polyline clip-path=\"url(#clip6200)\" style=\"stroke:#00a9ad; stroke-width:4; stroke-opacity:1; fill:none\" points=\"\n",
       "  2006.5,493.644 2150.5,493.644 \n",
       "  \"/>\n",
       "<g clip-path=\"url(#clip6200)\">\n",
       "<text style=\"fill:#000000; fill-opacity:1; font-family:Arial,Helvetica Neue,Helvetica,sans-serif; font-size:48px; text-anchor:start;\" transform=\"rotate(0, 2174.5, 511.144)\" x=\"2174.5\" y=\"511.144\">5</text>\n",
       "</g>\n",
       "<polyline clip-path=\"url(#clip6200)\" style=\"stroke:#ed5d92; stroke-width:4; stroke-opacity:1; fill:none\" points=\"\n",
       "  2006.5,554.124 2150.5,554.124 \n",
       "  \"/>\n",
       "<g clip-path=\"url(#clip6200)\">\n",
       "<text style=\"fill:#000000; fill-opacity:1; font-family:Arial,Helvetica Neue,Helvetica,sans-serif; font-size:48px; text-anchor:start;\" transform=\"rotate(0, 2174.5, 571.624)\" x=\"2174.5\" y=\"571.624\">6</text>\n",
       "</g>\n",
       "</svg>\n"
      ]
     },
     "metadata": {},
     "output_type": "display_data"
    },
    {
     "data": {
      "text/plain": [
       "\"Iteration\""
      ]
     },
     "metadata": {},
     "output_type": "display_data"
    },
    {
     "data": {
      "text/plain": [
       "2"
      ]
     },
     "metadata": {},
     "output_type": "display_data"
    },
    {
     "data": {
      "text/plain": [
       "\"Gauss abcisses: \""
      ]
     },
     "metadata": {},
     "output_type": "display_data"
    },
    {
     "data": {
      "text/plain": [
       "2-element Array{Float64,1}:\n",
       " -0.5773502691896258\n",
       "  0.5773502691896258"
      ]
     },
     "metadata": {},
     "output_type": "display_data"
    },
    {
     "data": {
      "text/plain": [
       "\"Legenedre roots: \""
      ]
     },
     "metadata": {},
     "output_type": "display_data"
    },
    {
     "data": {
      "text/plain": [
       "2-element Array{Float64,1}:\n",
       " -0.5773502691896258\n",
       "  0.5773502691896256"
      ]
     },
     "metadata": {},
     "output_type": "display_data"
    },
    {
     "data": {
      "text/plain": [
       "\"Iteration\""
      ]
     },
     "metadata": {},
     "output_type": "display_data"
    },
    {
     "data": {
      "text/plain": [
       "3"
      ]
     },
     "metadata": {},
     "output_type": "display_data"
    },
    {
     "data": {
      "text/plain": [
       "\"Gauss abcisses: \""
      ]
     },
     "metadata": {},
     "output_type": "display_data"
    },
    {
     "data": {
      "text/plain": [
       "3-element Array{Float64,1}:\n",
       " -0.7745966692414834\n",
       "  0.0               \n",
       "  0.7745966692414834"
      ]
     },
     "metadata": {},
     "output_type": "display_data"
    },
    {
     "data": {
      "text/plain": [
       "\"Legenedre roots: \""
      ]
     },
     "metadata": {},
     "output_type": "display_data"
    },
    {
     "data": {
      "text/plain": [
       "3-element Array{Float64,1}:\n",
       " -0.7745966692414834\n",
       "  0.7745966692414833\n",
       "  0.0               "
      ]
     },
     "metadata": {},
     "output_type": "display_data"
    },
    {
     "data": {
      "text/plain": [
       "\"Iteration\""
      ]
     },
     "metadata": {},
     "output_type": "display_data"
    },
    {
     "data": {
      "text/plain": [
       "4"
      ]
     },
     "metadata": {},
     "output_type": "display_data"
    },
    {
     "data": {
      "text/plain": [
       "\"Gauss abcisses: \""
      ]
     },
     "metadata": {},
     "output_type": "display_data"
    },
    {
     "data": {
      "text/plain": [
       "4-element Array{Float64,1}:\n",
       " -0.8611363115940526\n",
       " -0.3399810435848563\n",
       "  0.3399810435848563\n",
       "  0.8611363115940526"
      ]
     },
     "metadata": {},
     "output_type": "display_data"
    },
    {
     "data": {
      "text/plain": [
       "\"Legenedre roots: \""
      ]
     },
     "metadata": {},
     "output_type": "display_data"
    },
    {
     "data": {
      "text/plain": [
       "4-element Array{Float64,1}:\n",
       " -0.8611363115940536 \n",
       "  0.8611363115940531 \n",
       " -0.33998104358485653\n",
       "  0.3399810435848563 "
      ]
     },
     "metadata": {},
     "output_type": "display_data"
    },
    {
     "name": "stdout",
     "output_type": "stream",
     "text": [
      "\u001b[90m [787d08f9]\u001b[39m\u001b[93m ↑ ImageMorphology v0.2.1 ⇒ v0.2.2\u001b[39m\n"
     ]
    }
   ],
   "source": [
    "# Task 1 - Legendre's polynomials - roots and plots\n",
    "\n",
    "using Pkg, Plots\n",
    "Pkg.add(\"QuadGK\")\n",
    "\n",
    "using QuadGK, Polynomials\n",
    "\n",
    "function legendre(k)\n",
    "    if k == 0\n",
    "        return Poly([1])\n",
    "    end\n",
    "    \n",
    "    if k == 1\n",
    "        return Poly([0, 1])\n",
    "    end\n",
    "    \n",
    "    return (2 * (k - 1) + 1) / (k) * Poly([0, 1]) * legendre(k - 1) - ((k - 1) / (k) * legendre(k - 2))\n",
    "end\n",
    "    \n",
    "x_task_1 = -1:0.05:1\n",
    "\n",
    "plot_task_1 = plot(x_task_1, polyval(legendre(0), x_task_1), label=\"0\")\n",
    "\n",
    "for i in 1:6\n",
    "    plot!(x_task_1, polyval(legendre(i), x_task_1), label = string(i))\n",
    "end\n",
    "\n",
    "\n",
    "display(plot_task_1)\n",
    "\n",
    "display()\n",
    "\n",
    "\n",
    "for i in 2:4\n",
    "    display(\"Iteration\")\n",
    "    display(i)\n",
    "    (xp, a) = gauss(Float64, i)\n",
    "    display(\"Gauss abcisses: \")\n",
    "    display(xp)\n",
    "    display(\"Legenedre roots: \")\n",
    "    display(roots(legendre(i)))\n",
    "end\n",
    "\n",
    "# roots of legengre are abcisses of gauss points"
   ]
  },
  {
   "cell_type": "code",
   "execution_count": 2,
   "metadata": {},
   "outputs": [
    {
     "name": "stdout",
     "output_type": "stream",
     "text": [
      "integrating function: x^7 + x^6\n",
      "Correct result: \n",
      "0.2857142857142857\n",
      "\n",
      "k = 1: 0.0\n",
      "k = 2: 0.07407407407407413\n",
      "k = 3: 0.2400000000000001\n",
      "k = 4: 0.2857142857142858\n",
      "k = 5: 0.2857142857142858\n",
      "k = 6: 0.28571428571428586\n",
      "k = 7: 0.2857142857142859\n",
      "k = 8: 0.2857142857142857\n",
      "k = 9: 0.2857142857142859\n",
      "k = 10: 0.2857142857142858\n"
     ]
    }
   ],
   "source": [
    "# Task 2 - integrate from -1 to 1 using Gauss\n",
    "\n",
    "function integrate_gauss(f, k)\n",
    "    (xp, a) = gauss(Float64, k)\n",
    "    return sum(a .* f.(xp))\n",
    "end\n",
    "\n",
    "f(x) = x^7 + x^6\n",
    "\n",
    "# ANALYTICALLY\n",
    "\n",
    "# INTEGRAL OF x^7 + x^6 from -1 to 1:\n",
    "# result: 1/8 * x^8 + 1/7 * x^7\n",
    "# result from -1 to 1:\n",
    "# 2/7\n",
    "\n",
    "println(\"integrating function: x^7 + x^6\")\n",
    "println(\"Correct result: \")\n",
    "println(2/7)\n",
    "\n",
    "print(\"\\n\")\n",
    "\n",
    "println(\"k = 1: \", integrate_gauss(f, 1))\n",
    "println(\"k = 2: \", integrate_gauss(f, 2))\n",
    "println(\"k = 3: \", integrate_gauss(f, 3))\n",
    "println(\"k = 4: \", integrate_gauss(f, 4))\n",
    "println(\"k = 5: \", integrate_gauss(f, 5))\n",
    "println(\"k = 6: \", integrate_gauss(f, 6))\n",
    "println(\"k = 7: \", integrate_gauss(f, 7))\n",
    "println(\"k = 8: \", integrate_gauss(f, 8))\n",
    "println(\"k = 9: \", integrate_gauss(f, 9))\n",
    "println(\"k = 10: \", integrate_gauss(f, 10))\n",
    "\n",
    "# dla n-punktowej kwadratury można uzyskać stopień dokładności 2n - 1"
   ]
  },
  {
   "cell_type": "code",
   "execution_count": 3,
   "metadata": {},
   "outputs": [
    {
     "name": "stdout",
     "output_type": "stream",
     "text": [
      "\n",
      "Result of integration function: x^7 + x^6 from -1 to 1 using integration_normalized method\n",
      "\n",
      "k = 4:          0.2857142857142858\n",
      "Correct result: 0.2857142857142857\n",
      "\n",
      "Result of integration function: x^7 + x^6 from -5 to 3 using integration_normalized method \n",
      "\n",
      "k = 1:          0.0\n",
      "k = 2:          -12088.888888888894\n",
      "k = 3:          -32040.960000000006\n",
      "k = 4:          -36534.85714285714\n",
      "k = 5:          -36534.85714285712\n",
      "k = 6:          -36534.85714285715\n",
      "k = 7:          -36534.857142857145\n",
      "k = 8:          -36534.85714285712\n",
      "k = 9:          -36534.85714285715\n",
      "k = 10:         -36534.85714285716\n",
      "\n",
      "Correct result: -36534.857142857145\n",
      "\n",
      "Result of integration function: x^7 + x^6 from 4 to 8.5 using integration_normalized method \n",
      "\n",
      "k = 1:          1.9446015357971191e6\n",
      "k = 2:          3.7571958522949205e6\n",
      "k = 3:          3.8529690566748036e6\n",
      "k = 4:          3.8535662605329263e6\n",
      "k = 5:          3.8535662605329254e6\n",
      "\n",
      "Correct result: 3.85357e6\n"
     ]
    }
   ],
   "source": [
    "# Task 3 - normalized Gauss integration\n",
    "\n",
    "function integrate_gauss(f, k)\n",
    "    (xp, a) = gauss(Float64, k)\n",
    "    return sum(a .* f.(xp))\n",
    "end\n",
    "\n",
    "function integrate_normalized(f, a, b, k)\n",
    "    g(z) = f((b + a) / 2 + ((b - a) / 2) * z) * (b - a) / 2\n",
    "    return integrate_gauss(g, k)\n",
    "end\n",
    "\n",
    "\n",
    "f(x) = x^7 + x^6\n",
    "\n",
    "println()\n",
    "\n",
    "# RESULT FOR INTEGRATION FROM -1 TO 1 FOR x^7 + x^6: 2/7\n",
    "\n",
    "println(\"Result of integration function: x^7 + x^6 from -1 to 1 using integration_normalized method\\n\")\n",
    "\n",
    "println(\"k = 4:          \", integrate_normalized(f, -1, 1, 4))\n",
    "\n",
    "println(\"Correct result: \", 2/7)\n",
    "\n",
    "println()\n",
    "\n",
    "\n",
    "\n",
    "# RESULT FOR INTEGRATION FROM -5 TO 3 FOR THIS x^7 + x^6: -255744/7 ≈ -36535\n",
    "\n",
    "println(\"Result of integration function: x^7 + x^6 from -5 to 3 using integration_normalized method \\n\")\n",
    "\n",
    "println(\"k = 1:          \", integrate_normalized(f, -5, 3, 1))\n",
    "\n",
    "println(\"k = 2:          \", integrate_normalized(f, -5, 3, 2))\n",
    "\n",
    "println(\"k = 3:          \", integrate_normalized(f, -5, 3, 3))\n",
    "\n",
    "println(\"k = 4:          \", integrate_normalized(f, -5, 3, 4))\n",
    "\n",
    "println(\"k = 5:          \", integrate_normalized(f, -5, 3, 5))\n",
    "\n",
    "println(\"k = 6:          \", integrate_normalized(f, -5, 3, 6))\n",
    "\n",
    "println(\"k = 7:          \", integrate_normalized(f, -5, 3, 7))\n",
    "\n",
    "println(\"k = 8:          \", integrate_normalized(f, -5, 3, 8))\n",
    "\n",
    "println(\"k = 9:          \", integrate_normalized(f, -5, 3, 9))\n",
    "\n",
    "println(\"k = 10:         \", integrate_normalized(f, -5, 3, 10))\n",
    "\n",
    "println()\n",
    "\n",
    "println(\"Correct result: \", -255744/7)\n",
    "\n",
    "println()\n",
    "\n",
    "println(\"Result of integration function: x^7 + x^6 from 4 to 8.5 using integration_normalized method \\n\")\n",
    "\n",
    "println(\"k = 1:          \", integrate_normalized(f, 4, 8.5, 1))\n",
    "\n",
    "println(\"k = 2:          \", integrate_normalized(f, 4, 8.5, 2))\n",
    "\n",
    "println(\"k = 3:          \", integrate_normalized(f, 4, 8.5, 3))\n",
    "\n",
    "println(\"k = 4:          \", integrate_normalized(f, 4, 8.5, 4))\n",
    "\n",
    "println(\"k = 5:          \", integrate_normalized(f, 4, 8.5, 5))\n",
    "\n",
    "println()\n",
    "\n",
    "println(\"Correct result: \", 3.85357 * 10^6)\n",
    "\n"
   ]
  },
  {
   "cell_type": "code",
   "execution_count": 4,
   "metadata": {},
   "outputs": [
    {
     "name": "stdout",
     "output_type": "stream",
     "text": [
      "Function for integration: x^7 + x^6 \n",
      "\n",
      "Result using quadgk: (0.2857142857142856, 5.551115123125783e-17)\n",
      "Correct result:       0.2857142857142857\n",
      "\n",
      "Normal Gauss distribution from -Inf to Inf for function:  1 / sqrt(2 * pi) * exp((-x^2) / 2)\n",
      "(1.0000000000032583, 1.4395584941504537e-8)\n"
     ]
    }
   ],
   "source": [
    "# Task 4 - Gauss-Kronrod integration using quadgk method\n",
    "\n",
    "using QuadGK\n",
    "\n",
    "f(x) = x^7 + x^6\n",
    "\n",
    "println(\"Function for integration: x^7 + x^6 \\n\")\n",
    "\n",
    "println(\"Result using quadgk: \", quadgk(f, -1, 1))\n",
    "\n",
    "println(\"Correct result:       \", 2/7)\n",
    "\n",
    "println()\n",
    "\n",
    "println(\"Normal Gauss distribution from -Inf to Inf for function:  1 / sqrt(2 * pi) * exp((-x^2) / 2)\")\n",
    "\n",
    "g(x) = 1 / sqrt(2 * pi) * exp((-x^2) / 2)\n",
    "\n",
    "println(quadgk(g, -Inf, Inf))"
   ]
  },
  {
   "cell_type": "code",
   "execution_count": 5,
   "metadata": {
    "scrolled": false
   },
   "outputs": [
    {
     "data": {
      "text/plain": [
       "\"Test result of trapezoidal integration for f = x^7 + x^6 from -1 to 1\""
      ]
     },
     "metadata": {},
     "output_type": "display_data"
    },
    {
     "data": {
      "text/plain": [
       "0.3342898521817722"
      ]
     },
     "metadata": {},
     "output_type": "display_data"
    },
    {
     "data": {
      "text/plain": [
       "\"Correct result of integration for f = x^7 + x^6 from -1 to 1: \""
      ]
     },
     "metadata": {},
     "output_type": "display_data"
    },
    {
     "data": {
      "text/plain": [
       "0.2857142857142857"
      ]
     },
     "metadata": {},
     "output_type": "display_data"
    },
    {
     "data": {
      "image/svg+xml": [
       "<?xml version=\"1.0\" encoding=\"utf-8\"?>\n",
       "<svg xmlns=\"http://www.w3.org/2000/svg\" xmlns:xlink=\"http://www.w3.org/1999/xlink\" width=\"600\" height=\"400\" viewBox=\"0 0 2400 1600\">\n",
       "<defs>\n",
       "  <clipPath id=\"clip6600\">\n",
       "    <rect x=\"0\" y=\"0\" width=\"2400\" height=\"1600\"/>\n",
       "  </clipPath>\n",
       "</defs>\n",
       "<polygon clip-path=\"url(#clip6600)\" points=\"\n",
       "0,1600 2400,1600 2400,0 0,0 \n",
       "  \" fill=\"#ffffff\" fill-rule=\"evenodd\" fill-opacity=\"1\"/>\n",
       "<defs>\n",
       "  <clipPath id=\"clip6601\">\n",
       "    <rect x=\"480\" y=\"0\" width=\"1681\" height=\"1600\"/>\n",
       "  </clipPath>\n",
       "</defs>\n",
       "<polygon clip-path=\"url(#clip6600)\" points=\"\n",
       "224.386,1440.48 2321.26,1440.48 2321.26,47.2441 224.386,47.2441 \n",
       "  \" fill=\"#ffffff\" fill-rule=\"evenodd\" fill-opacity=\"1\"/>\n",
       "<defs>\n",
       "  <clipPath id=\"clip6602\">\n",
       "    <rect x=\"224\" y=\"47\" width=\"2098\" height=\"1394\"/>\n",
       "  </clipPath>\n",
       "</defs>\n",
       "<polyline clip-path=\"url(#clip6602)\" style=\"stroke:#000000; stroke-width:2; stroke-opacity:0.1; fill:none\" points=\"\n",
       "  613.429,1440.48 613.429,47.2441 \n",
       "  \"/>\n",
       "<polyline clip-path=\"url(#clip6602)\" style=\"stroke:#000000; stroke-width:2; stroke-opacity:0.1; fill:none\" points=\"\n",
       "  1162.92,1440.48 1162.92,47.2441 \n",
       "  \"/>\n",
       "<polyline clip-path=\"url(#clip6602)\" style=\"stroke:#000000; stroke-width:2; stroke-opacity:0.1; fill:none\" points=\"\n",
       "  1712.42,1440.48 1712.42,47.2441 \n",
       "  \"/>\n",
       "<polyline clip-path=\"url(#clip6602)\" style=\"stroke:#000000; stroke-width:2; stroke-opacity:0.1; fill:none\" points=\"\n",
       "  2261.91,1440.48 2261.91,47.2441 \n",
       "  \"/>\n",
       "<polyline clip-path=\"url(#clip6602)\" style=\"stroke:#000000; stroke-width:2; stroke-opacity:0.1; fill:none\" points=\"\n",
       "  224.386,1409.57 2321.26,1409.57 \n",
       "  \"/>\n",
       "<polyline clip-path=\"url(#clip6602)\" style=\"stroke:#000000; stroke-width:2; stroke-opacity:0.1; fill:none\" points=\"\n",
       "  224.386,1023.73 2321.26,1023.73 \n",
       "  \"/>\n",
       "<polyline clip-path=\"url(#clip6602)\" style=\"stroke:#000000; stroke-width:2; stroke-opacity:0.1; fill:none\" points=\"\n",
       "  224.386,637.882 2321.26,637.882 \n",
       "  \"/>\n",
       "<polyline clip-path=\"url(#clip6602)\" style=\"stroke:#000000; stroke-width:2; stroke-opacity:0.1; fill:none\" points=\"\n",
       "  224.386,252.037 2321.26,252.037 \n",
       "  \"/>\n",
       "<polyline clip-path=\"url(#clip6600)\" style=\"stroke:#000000; stroke-width:4; stroke-opacity:1; fill:none\" points=\"\n",
       "  224.386,1440.48 2321.26,1440.48 \n",
       "  \"/>\n",
       "<polyline clip-path=\"url(#clip6600)\" style=\"stroke:#000000; stroke-width:4; stroke-opacity:1; fill:none\" points=\"\n",
       "  224.386,1440.48 224.386,47.2441 \n",
       "  \"/>\n",
       "<polyline clip-path=\"url(#clip6600)\" style=\"stroke:#000000; stroke-width:4; stroke-opacity:1; fill:none\" points=\"\n",
       "  613.429,1440.48 613.429,1419.58 \n",
       "  \"/>\n",
       "<polyline clip-path=\"url(#clip6600)\" style=\"stroke:#000000; stroke-width:4; stroke-opacity:1; fill:none\" points=\"\n",
       "  1162.92,1440.48 1162.92,1419.58 \n",
       "  \"/>\n",
       "<polyline clip-path=\"url(#clip6600)\" style=\"stroke:#000000; stroke-width:4; stroke-opacity:1; fill:none\" points=\"\n",
       "  1712.42,1440.48 1712.42,1419.58 \n",
       "  \"/>\n",
       "<polyline clip-path=\"url(#clip6600)\" style=\"stroke:#000000; stroke-width:4; stroke-opacity:1; fill:none\" points=\"\n",
       "  2261.91,1440.48 2261.91,1419.58 \n",
       "  \"/>\n",
       "<polyline clip-path=\"url(#clip6600)\" style=\"stroke:#000000; stroke-width:4; stroke-opacity:1; fill:none\" points=\"\n",
       "  224.386,1409.57 255.839,1409.57 \n",
       "  \"/>\n",
       "<polyline clip-path=\"url(#clip6600)\" style=\"stroke:#000000; stroke-width:4; stroke-opacity:1; fill:none\" points=\"\n",
       "  224.386,1023.73 255.839,1023.73 \n",
       "  \"/>\n",
       "<polyline clip-path=\"url(#clip6600)\" style=\"stroke:#000000; stroke-width:4; stroke-opacity:1; fill:none\" points=\"\n",
       "  224.386,637.882 255.839,637.882 \n",
       "  \"/>\n",
       "<polyline clip-path=\"url(#clip6600)\" style=\"stroke:#000000; stroke-width:4; stroke-opacity:1; fill:none\" points=\"\n",
       "  224.386,252.037 255.839,252.037 \n",
       "  \"/>\n",
       "<g clip-path=\"url(#clip6600)\">\n",
       "<text style=\"fill:#000000; fill-opacity:1; font-family:Arial,Helvetica Neue,Helvetica,sans-serif; font-size:48px; text-anchor:middle;\" transform=\"rotate(0, 613.429, 1494.48)\" x=\"613.429\" y=\"1494.48\">5</text>\n",
       "</g>\n",
       "<g clip-path=\"url(#clip6600)\">\n",
       "<text style=\"fill:#000000; fill-opacity:1; font-family:Arial,Helvetica Neue,Helvetica,sans-serif; font-size:48px; text-anchor:middle;\" transform=\"rotate(0, 1162.92, 1494.48)\" x=\"1162.92\" y=\"1494.48\">10</text>\n",
       "</g>\n",
       "<g clip-path=\"url(#clip6600)\">\n",
       "<text style=\"fill:#000000; fill-opacity:1; font-family:Arial,Helvetica Neue,Helvetica,sans-serif; font-size:48px; text-anchor:middle;\" transform=\"rotate(0, 1712.42, 1494.48)\" x=\"1712.42\" y=\"1494.48\">15</text>\n",
       "</g>\n",
       "<g clip-path=\"url(#clip6600)\">\n",
       "<text style=\"fill:#000000; fill-opacity:1; font-family:Arial,Helvetica Neue,Helvetica,sans-serif; font-size:48px; text-anchor:middle;\" transform=\"rotate(0, 2261.91, 1494.48)\" x=\"2261.91\" y=\"1494.48\">20</text>\n",
       "</g>\n",
       "<g clip-path=\"url(#clip6600)\">\n",
       "<text style=\"fill:#000000; fill-opacity:1; font-family:Arial,Helvetica Neue,Helvetica,sans-serif; font-size:48px; text-anchor:end;\" transform=\"rotate(0, 200.386, 1427.07)\" x=\"200.386\" y=\"1427.07\">0.0</text>\n",
       "</g>\n",
       "<g clip-path=\"url(#clip6600)\">\n",
       "<text style=\"fill:#000000; fill-opacity:1; font-family:Arial,Helvetica Neue,Helvetica,sans-serif; font-size:48px; text-anchor:end;\" transform=\"rotate(0, 200.386, 1041.23)\" x=\"200.386\" y=\"1041.23\">0.5</text>\n",
       "</g>\n",
       "<g clip-path=\"url(#clip6600)\">\n",
       "<text style=\"fill:#000000; fill-opacity:1; font-family:Arial,Helvetica Neue,Helvetica,sans-serif; font-size:48px; text-anchor:end;\" transform=\"rotate(0, 200.386, 655.382)\" x=\"200.386\" y=\"655.382\">1.0</text>\n",
       "</g>\n",
       "<g clip-path=\"url(#clip6600)\">\n",
       "<text style=\"fill:#000000; fill-opacity:1; font-family:Arial,Helvetica Neue,Helvetica,sans-serif; font-size:48px; text-anchor:end;\" transform=\"rotate(0, 200.386, 269.537)\" x=\"200.386\" y=\"269.537\">1.5</text>\n",
       "</g>\n",
       "<g clip-path=\"url(#clip6600)\">\n",
       "<text style=\"fill:#000000; fill-opacity:1; font-family:Arial,Helvetica Neue,Helvetica,sans-serif; font-size:66px; text-anchor:middle;\" transform=\"rotate(0, 1272.82, 1590.4)\" x=\"1272.82\" y=\"1590.4\">n</text>\n",
       "</g>\n",
       "<g clip-path=\"url(#clip6600)\">\n",
       "<text style=\"fill:#000000; fill-opacity:1; font-family:Arial,Helvetica Neue,Helvetica,sans-serif; font-size:66px; text-anchor:middle;\" transform=\"rotate(-90, 57.6, 743.863)\" x=\"57.6\" y=\"743.863\">difference between real and calculated value</text>\n",
       "</g>\n",
       "<circle clip-path=\"url(#clip6602)\" style=\"fill:#000000; stroke:none; fill-opacity:1\" cx=\"283.732\" cy=\"86.6754\" r=\"18\"/>\n",
       "<circle clip-path=\"url(#clip6602)\" style=\"fill:#009af9; stroke:none; fill-opacity:1\" cx=\"283.732\" cy=\"86.6754\" r=\"14\"/>\n",
       "<circle clip-path=\"url(#clip6602)\" style=\"fill:#000000; stroke:none; fill-opacity:1\" cx=\"393.631\" cy=\"858.364\" r=\"18\"/>\n",
       "<circle clip-path=\"url(#clip6602)\" style=\"fill:#009af9; stroke:none; fill-opacity:1\" cx=\"393.631\" cy=\"858.364\" r=\"14\"/>\n",
       "<circle clip-path=\"url(#clip6602)\" style=\"fill:#000000; stroke:none; fill-opacity:1\" cx=\"503.53\" cy=\"1114.18\" r=\"18\"/>\n",
       "<circle clip-path=\"url(#clip6602)\" style=\"fill:#009af9; stroke:none; fill-opacity:1\" cx=\"503.53\" cy=\"1114.18\" r=\"14\"/>\n",
       "<circle clip-path=\"url(#clip6602)\" style=\"fill:#000000; stroke:none; fill-opacity:1\" cx=\"613.429\" cy=\"1232.15\" r=\"18\"/>\n",
       "<circle clip-path=\"url(#clip6602)\" style=\"fill:#009af9; stroke:none; fill-opacity:1\" cx=\"613.429\" cy=\"1232.15\" r=\"14\"/>\n",
       "<circle clip-path=\"url(#clip6602)\" style=\"fill:#000000; stroke:none; fill-opacity:1\" cx=\"723.328\" cy=\"1292.53\" r=\"18\"/>\n",
       "<circle clip-path=\"url(#clip6602)\" style=\"fill:#009af9; stroke:none; fill-opacity:1\" cx=\"723.328\" cy=\"1292.53\" r=\"14\"/>\n",
       "<circle clip-path=\"url(#clip6602)\" style=\"fill:#000000; stroke:none; fill-opacity:1\" cx=\"833.227\" cy=\"1326.95\" r=\"18\"/>\n",
       "<circle clip-path=\"url(#clip6602)\" style=\"fill:#009af9; stroke:none; fill-opacity:1\" cx=\"833.227\" cy=\"1326.95\" r=\"14\"/>\n",
       "<circle clip-path=\"url(#clip6602)\" style=\"fill:#000000; stroke:none; fill-opacity:1\" cx=\"943.126\" cy=\"1348.27\" r=\"18\"/>\n",
       "<circle clip-path=\"url(#clip6602)\" style=\"fill:#009af9; stroke:none; fill-opacity:1\" cx=\"943.126\" cy=\"1348.27\" r=\"14\"/>\n",
       "<circle clip-path=\"url(#clip6602)\" style=\"fill:#000000; stroke:none; fill-opacity:1\" cx=\"1053.02\" cy=\"1362.34\" r=\"18\"/>\n",
       "<circle clip-path=\"url(#clip6602)\" style=\"fill:#009af9; stroke:none; fill-opacity:1\" cx=\"1053.02\" cy=\"1362.34\" r=\"14\"/>\n",
       "<circle clip-path=\"url(#clip6602)\" style=\"fill:#000000; stroke:none; fill-opacity:1\" cx=\"1162.92\" cy=\"1372.09\" r=\"18\"/>\n",
       "<circle clip-path=\"url(#clip6602)\" style=\"fill:#009af9; stroke:none; fill-opacity:1\" cx=\"1162.92\" cy=\"1372.09\" r=\"14\"/>\n",
       "<circle clip-path=\"url(#clip6602)\" style=\"fill:#000000; stroke:none; fill-opacity:1\" cx=\"1272.82\" cy=\"1379.11\" r=\"18\"/>\n",
       "<circle clip-path=\"url(#clip6602)\" style=\"fill:#009af9; stroke:none; fill-opacity:1\" cx=\"1272.82\" cy=\"1379.11\" r=\"14\"/>\n",
       "<circle clip-path=\"url(#clip6602)\" style=\"fill:#000000; stroke:none; fill-opacity:1\" cx=\"1382.72\" cy=\"1384.34\" r=\"18\"/>\n",
       "<circle clip-path=\"url(#clip6602)\" style=\"fill:#009af9; stroke:none; fill-opacity:1\" cx=\"1382.72\" cy=\"1384.34\" r=\"14\"/>\n",
       "<circle clip-path=\"url(#clip6602)\" style=\"fill:#000000; stroke:none; fill-opacity:1\" cx=\"1492.62\" cy=\"1388.33\" r=\"18\"/>\n",
       "<circle clip-path=\"url(#clip6602)\" style=\"fill:#009af9; stroke:none; fill-opacity:1\" cx=\"1492.62\" cy=\"1388.33\" r=\"14\"/>\n",
       "<circle clip-path=\"url(#clip6602)\" style=\"fill:#000000; stroke:none; fill-opacity:1\" cx=\"1602.52\" cy=\"1391.45\" r=\"18\"/>\n",
       "<circle clip-path=\"url(#clip6602)\" style=\"fill:#009af9; stroke:none; fill-opacity:1\" cx=\"1602.52\" cy=\"1391.45\" r=\"14\"/>\n",
       "<circle clip-path=\"url(#clip6602)\" style=\"fill:#000000; stroke:none; fill-opacity:1\" cx=\"1712.42\" cy=\"1393.93\" r=\"18\"/>\n",
       "<circle clip-path=\"url(#clip6602)\" style=\"fill:#009af9; stroke:none; fill-opacity:1\" cx=\"1712.42\" cy=\"1393.93\" r=\"14\"/>\n",
       "<circle clip-path=\"url(#clip6602)\" style=\"fill:#000000; stroke:none; fill-opacity:1\" cx=\"1822.32\" cy=\"1395.93\" r=\"18\"/>\n",
       "<circle clip-path=\"url(#clip6602)\" style=\"fill:#009af9; stroke:none; fill-opacity:1\" cx=\"1822.32\" cy=\"1395.93\" r=\"14\"/>\n",
       "<circle clip-path=\"url(#clip6602)\" style=\"fill:#000000; stroke:none; fill-opacity:1\" cx=\"1932.22\" cy=\"1397.58\" r=\"18\"/>\n",
       "<circle clip-path=\"url(#clip6602)\" style=\"fill:#009af9; stroke:none; fill-opacity:1\" cx=\"1932.22\" cy=\"1397.58\" r=\"14\"/>\n",
       "<circle clip-path=\"url(#clip6602)\" style=\"fill:#000000; stroke:none; fill-opacity:1\" cx=\"2042.12\" cy=\"1398.94\" r=\"18\"/>\n",
       "<circle clip-path=\"url(#clip6602)\" style=\"fill:#009af9; stroke:none; fill-opacity:1\" cx=\"2042.12\" cy=\"1398.94\" r=\"14\"/>\n",
       "<circle clip-path=\"url(#clip6602)\" style=\"fill:#000000; stroke:none; fill-opacity:1\" cx=\"2152.02\" cy=\"1400.08\" r=\"18\"/>\n",
       "<circle clip-path=\"url(#clip6602)\" style=\"fill:#009af9; stroke:none; fill-opacity:1\" cx=\"2152.02\" cy=\"1400.08\" r=\"14\"/>\n",
       "<circle clip-path=\"url(#clip6602)\" style=\"fill:#000000; stroke:none; fill-opacity:1\" cx=\"2261.91\" cy=\"1401.05\" r=\"18\"/>\n",
       "<circle clip-path=\"url(#clip6602)\" style=\"fill:#009af9; stroke:none; fill-opacity:1\" cx=\"2261.91\" cy=\"1401.05\" r=\"14\"/>\n",
       "<polygon clip-path=\"url(#clip6600)\" points=\"\n",
       "1958.43,251.724 2249.26,251.724 2249.26,130.764 1958.43,130.764 \n",
       "  \" fill=\"#ffffff\" fill-rule=\"evenodd\" fill-opacity=\"1\"/>\n",
       "<polyline clip-path=\"url(#clip6600)\" style=\"stroke:#000000; stroke-width:4; stroke-opacity:1; fill:none\" points=\"\n",
       "  1958.43,251.724 2249.26,251.724 2249.26,130.764 1958.43,130.764 1958.43,251.724 \n",
       "  \"/>\n",
       "<circle clip-path=\"url(#clip6600)\" style=\"fill:#000000; stroke:none; fill-opacity:1\" cx=\"2066.43\" cy=\"191.244\" r=\"25\"/>\n",
       "<circle clip-path=\"url(#clip6600)\" style=\"fill:#009af9; stroke:none; fill-opacity:1\" cx=\"2066.43\" cy=\"191.244\" r=\"21\"/>\n",
       "<g clip-path=\"url(#clip6600)\">\n",
       "<text style=\"fill:#000000; fill-opacity:1; font-family:Arial,Helvetica Neue,Helvetica,sans-serif; font-size:48px; text-anchor:start;\" transform=\"rotate(0, 2150.43, 208.744)\" x=\"2150.43\" y=\"208.744\">y1</text>\n",
       "</g>\n",
       "</svg>\n"
      ]
     },
     "execution_count": 5,
     "metadata": {},
     "output_type": "execute_result"
    }
   ],
   "source": [
    "# Task 5 - trapezoidal integration rule\n",
    "using Pkg, Plots\n",
    "\n",
    "function trapezoidal_rule_integration(f, a, b, n)\n",
    "    sum = 0\n",
    "    \n",
    "    single_trapezoid_width = (b - a) / (n - 1)\n",
    "    \n",
    "    x_of_starting_trapezoid = a\n",
    "    \n",
    "    for i in 1:(n - 1)\n",
    "        sum = sum + 1/2 * (f(x_of_starting_trapezoid) + f(x_of_starting_trapezoid + single_trapezoid_width)) * single_trapezoid_width\n",
    "        x_of_starting_trapezoid = x_of_starting_trapezoid + single_trapezoid_width\n",
    "    end\n",
    "    \n",
    "    return sum\n",
    "end\n",
    "\n",
    "\n",
    "f(x) = x^7 + x^6\n",
    "\n",
    "correct_sollution = 2/7\n",
    "\n",
    "display(\"Test result of trapezoidal integration for f = x^7 + x^6 from -1 to 1\")\n",
    "display(trapezoidal_rule_integration(f, -1, 1, 10))\n",
    "\n",
    "display(\"Correct result of integration for f = x^7 + x^6 from -1 to 1: \")\n",
    "\n",
    "display(2/7)\n",
    "\n",
    "error = []\n",
    "\n",
    "xs = 2:20\n",
    "\n",
    "for i in xs\n",
    "    push!(error, abs(correct_sollution - trapezoidal_rule_integration(f, -1, 1, i)))\n",
    "end\n",
    "\n",
    "scatter(xs, error, xlabel=\"n\", ylabel=\"difference between real and calculated value\")"
   ]
  },
  {
   "cell_type": "code",
   "execution_count": null,
   "metadata": {},
   "outputs": [],
   "source": []
  }
 ],
 "metadata": {
  "kernelspec": {
   "display_name": "Julia 1.1.0",
   "language": "julia",
   "name": "julia-1.1"
  },
  "language_info": {
   "file_extension": ".jl",
   "mimetype": "application/julia",
   "name": "julia",
   "version": "1.1.0"
  }
 },
 "nbformat": 4,
 "nbformat_minor": 2
}
